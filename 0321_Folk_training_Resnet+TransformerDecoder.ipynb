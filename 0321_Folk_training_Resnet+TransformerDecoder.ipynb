{
  "cells": [
    {
      "cell_type": "markdown",
      "metadata": {
        "id": "view-in-github",
        "colab_type": "text"
      },
      "source": [
        "<a href=\"https://colab.research.google.com/github/sooo19/A-study-of-the-data-generation-model-of-the-Folk-Painting-source-data/blob/main/0321_Folk_training_Resnet%2BTransformerDecoder.ipynb\" target=\"_parent\"><img src=\"https://colab.research.google.com/assets/colab-badge.svg\" alt=\"Open In Colab\"/></a>"
      ]
    },
    {
      "cell_type": "markdown",
      "metadata": {
        "id": "jnpGc4efSrzl"
      },
      "source": [
        "#Image Caption -> ResNet, TransformerDecoder\n",
        "\n",
        "https://www.kaggle.com/dipanjandas96/image-caption-resnet-transformerdecoder-pytorch"
      ]
    },
    {
      "cell_type": "markdown",
      "metadata": {
        "id": "k5QRwIRFS5E9"
      },
      "source": [
        "1. Creating features for Images Using Resnet\n",
        "\n",
        "2. Train Trnasformer Decoder Model which predicts next word given a sequence of tockens and Image Features from Step1"
      ]
    },
    {
      "cell_type": "code",
      "execution_count": 1,
      "metadata": {
        "id": "qA7TryAzT-fs",
        "colab": {
          "base_uri": "https://localhost:8080/"
        },
        "outputId": "6d6c4f84-b485-4386-ba6a-2b224fcf3892"
      },
      "outputs": [
        {
          "output_type": "stream",
          "name": "stdout",
          "text": [
            "Mounted at /content/gdrive\n"
          ]
        }
      ],
      "source": [
        "from google.colab import drive\n",
        "drive.mount('/content/gdrive')"
      ]
    },
    {
      "cell_type": "code",
      "execution_count": 2,
      "metadata": {
        "id": "kYZBDnQqwMSb"
      },
      "outputs": [],
      "source": [
        "import pandas as pd\n",
        "import numpy as np\n",
        "from collections import Counter\n",
        "import torchvision\n",
        "from PIL import Image\n",
        "from torch.utils.data import Dataset, DataLoader\n",
        "import torch\n",
        "import torch.nn as nn\n",
        "from torch.autograd import Variable\n",
        "from tqdm.notebook import tqdm\n",
        "import matplotlib.pyplot as plt\n",
        "import math\n",
        "import torch.nn.functional as F\n",
        "import pickle\n",
        "import gc\n",
        "import random\n",
        "\n",
        "pd.set_option('display.max_colwidth', None)"
      ]
    },
    {
      "cell_type": "code",
      "execution_count": 3,
      "metadata": {
        "id": "qsR8gAuJwgKY",
        "colab": {
          "base_uri": "https://localhost:8080/",
          "height": 287
        },
        "outputId": "d08c0ceb-fed0-48d1-c06b-e16fe691605e"
      },
      "outputs": [
        {
          "output_type": "stream",
          "name": "stdout",
          "text": [
            "7805\n"
          ]
        },
        {
          "output_type": "display_data",
          "data": {
            "text/plain": [
              "          image  \\\n",
              "0  TMP00001.JPG   \n",
              "1  TMP00001.JPG   \n",
              "2  TMP00001.JPG   \n",
              "\n",
              "                                                                       caption  \n",
              "0                       This is a Minhwa and it is the Korean folk paintings .  \n",
              "1       This painting is a Hojakdo which is one of the Korean folk paintings .  \n",
              "2  This is a Hojakdo which is the Painting of Tiger and Magpie and Pine Tree .  "
            ],
            "text/html": [
              "\n",
              "  <div id=\"df-9d236e70-75dc-4cce-bf2d-17f3eaff8a50\">\n",
              "    <div class=\"colab-df-container\">\n",
              "      <div>\n",
              "<style scoped>\n",
              "    .dataframe tbody tr th:only-of-type {\n",
              "        vertical-align: middle;\n",
              "    }\n",
              "\n",
              "    .dataframe tbody tr th {\n",
              "        vertical-align: top;\n",
              "    }\n",
              "\n",
              "    .dataframe thead th {\n",
              "        text-align: right;\n",
              "    }\n",
              "</style>\n",
              "<table border=\"1\" class=\"dataframe\">\n",
              "  <thead>\n",
              "    <tr style=\"text-align: right;\">\n",
              "      <th></th>\n",
              "      <th>image</th>\n",
              "      <th>caption</th>\n",
              "    </tr>\n",
              "  </thead>\n",
              "  <tbody>\n",
              "    <tr>\n",
              "      <th>0</th>\n",
              "      <td>TMP00001.JPG</td>\n",
              "      <td>This is a Minhwa and it is the Korean folk paintings .</td>\n",
              "    </tr>\n",
              "    <tr>\n",
              "      <th>1</th>\n",
              "      <td>TMP00001.JPG</td>\n",
              "      <td>This painting is a Hojakdo which is one of the Korean folk paintings .</td>\n",
              "    </tr>\n",
              "    <tr>\n",
              "      <th>2</th>\n",
              "      <td>TMP00001.JPG</td>\n",
              "      <td>This is a Hojakdo which is the Painting of Tiger and Magpie and Pine Tree .</td>\n",
              "    </tr>\n",
              "  </tbody>\n",
              "</table>\n",
              "</div>\n",
              "      <button class=\"colab-df-convert\" onclick=\"convertToInteractive('df-9d236e70-75dc-4cce-bf2d-17f3eaff8a50')\"\n",
              "              title=\"Convert this dataframe to an interactive table.\"\n",
              "              style=\"display:none;\">\n",
              "        \n",
              "  <svg xmlns=\"http://www.w3.org/2000/svg\" height=\"24px\"viewBox=\"0 0 24 24\"\n",
              "       width=\"24px\">\n",
              "    <path d=\"M0 0h24v24H0V0z\" fill=\"none\"/>\n",
              "    <path d=\"M18.56 5.44l.94 2.06.94-2.06 2.06-.94-2.06-.94-.94-2.06-.94 2.06-2.06.94zm-11 1L8.5 8.5l.94-2.06 2.06-.94-2.06-.94L8.5 2.5l-.94 2.06-2.06.94zm10 10l.94 2.06.94-2.06 2.06-.94-2.06-.94-.94-2.06-.94 2.06-2.06.94z\"/><path d=\"M17.41 7.96l-1.37-1.37c-.4-.4-.92-.59-1.43-.59-.52 0-1.04.2-1.43.59L10.3 9.45l-7.72 7.72c-.78.78-.78 2.05 0 2.83L4 21.41c.39.39.9.59 1.41.59.51 0 1.02-.2 1.41-.59l7.78-7.78 2.81-2.81c.8-.78.8-2.07 0-2.86zM5.41 20L4 18.59l7.72-7.72 1.47 1.35L5.41 20z\"/>\n",
              "  </svg>\n",
              "      </button>\n",
              "      \n",
              "  <style>\n",
              "    .colab-df-container {\n",
              "      display:flex;\n",
              "      flex-wrap:wrap;\n",
              "      gap: 12px;\n",
              "    }\n",
              "\n",
              "    .colab-df-convert {\n",
              "      background-color: #E8F0FE;\n",
              "      border: none;\n",
              "      border-radius: 50%;\n",
              "      cursor: pointer;\n",
              "      display: none;\n",
              "      fill: #1967D2;\n",
              "      height: 32px;\n",
              "      padding: 0 0 0 0;\n",
              "      width: 32px;\n",
              "    }\n",
              "\n",
              "    .colab-df-convert:hover {\n",
              "      background-color: #E2EBFA;\n",
              "      box-shadow: 0px 1px 2px rgba(60, 64, 67, 0.3), 0px 1px 3px 1px rgba(60, 64, 67, 0.15);\n",
              "      fill: #174EA6;\n",
              "    }\n",
              "\n",
              "    [theme=dark] .colab-df-convert {\n",
              "      background-color: #3B4455;\n",
              "      fill: #D2E3FC;\n",
              "    }\n",
              "\n",
              "    [theme=dark] .colab-df-convert:hover {\n",
              "      background-color: #434B5C;\n",
              "      box-shadow: 0px 1px 3px 1px rgba(0, 0, 0, 0.15);\n",
              "      filter: drop-shadow(0px 1px 2px rgba(0, 0, 0, 0.3));\n",
              "      fill: #FFFFFF;\n",
              "    }\n",
              "  </style>\n",
              "\n",
              "      <script>\n",
              "        const buttonEl =\n",
              "          document.querySelector('#df-9d236e70-75dc-4cce-bf2d-17f3eaff8a50 button.colab-df-convert');\n",
              "        buttonEl.style.display =\n",
              "          google.colab.kernel.accessAllowed ? 'block' : 'none';\n",
              "\n",
              "        async function convertToInteractive(key) {\n",
              "          const element = document.querySelector('#df-9d236e70-75dc-4cce-bf2d-17f3eaff8a50');\n",
              "          const dataTable =\n",
              "            await google.colab.kernel.invokeFunction('convertToInteractive',\n",
              "                                                     [key], {});\n",
              "          if (!dataTable) return;\n",
              "\n",
              "          const docLinkHtml = 'Like what you see? Visit the ' +\n",
              "            '<a target=\"_blank\" href=https://colab.research.google.com/notebooks/data_table.ipynb>data table notebook</a>'\n",
              "            + ' to learn more about interactive tables.';\n",
              "          element.innerHTML = '';\n",
              "          dataTable['output_type'] = 'display_data';\n",
              "          await google.colab.output.renderOutput(dataTable, element);\n",
              "          const docLink = document.createElement('div');\n",
              "          docLink.innerHTML = docLinkHtml;\n",
              "          element.appendChild(docLink);\n",
              "        }\n",
              "      </script>\n",
              "    </div>\n",
              "  </div>\n",
              "  "
            ]
          },
          "metadata": {}
        },
        {
          "output_type": "display_data",
          "data": {
            "text/plain": [
              "             image  \\\n",
              "7802  LSA00024.JPG   \n",
              "7803  LSA00024.JPG   \n",
              "7804  LSA00024.JPG   \n",
              "\n",
              "                                                                 caption  \n",
              "7802    This is a Yeogihwa which is the Painting as a Leisure Activity .  \n",
              "7803                          In Yeogihwa there are letters of culture .  \n",
              "7804  The keyword of Yeojihwa is a letter and a flower and a butterfly .  "
            ],
            "text/html": [
              "\n",
              "  <div id=\"df-0256f8cf-e438-48d4-8644-8f456d4ad81c\">\n",
              "    <div class=\"colab-df-container\">\n",
              "      <div>\n",
              "<style scoped>\n",
              "    .dataframe tbody tr th:only-of-type {\n",
              "        vertical-align: middle;\n",
              "    }\n",
              "\n",
              "    .dataframe tbody tr th {\n",
              "        vertical-align: top;\n",
              "    }\n",
              "\n",
              "    .dataframe thead th {\n",
              "        text-align: right;\n",
              "    }\n",
              "</style>\n",
              "<table border=\"1\" class=\"dataframe\">\n",
              "  <thead>\n",
              "    <tr style=\"text-align: right;\">\n",
              "      <th></th>\n",
              "      <th>image</th>\n",
              "      <th>caption</th>\n",
              "    </tr>\n",
              "  </thead>\n",
              "  <tbody>\n",
              "    <tr>\n",
              "      <th>7802</th>\n",
              "      <td>LSA00024.JPG</td>\n",
              "      <td>This is a Yeogihwa which is the Painting as a Leisure Activity .</td>\n",
              "    </tr>\n",
              "    <tr>\n",
              "      <th>7803</th>\n",
              "      <td>LSA00024.JPG</td>\n",
              "      <td>In Yeogihwa there are letters of culture .</td>\n",
              "    </tr>\n",
              "    <tr>\n",
              "      <th>7804</th>\n",
              "      <td>LSA00024.JPG</td>\n",
              "      <td>The keyword of Yeojihwa is a letter and a flower and a butterfly .</td>\n",
              "    </tr>\n",
              "  </tbody>\n",
              "</table>\n",
              "</div>\n",
              "      <button class=\"colab-df-convert\" onclick=\"convertToInteractive('df-0256f8cf-e438-48d4-8644-8f456d4ad81c')\"\n",
              "              title=\"Convert this dataframe to an interactive table.\"\n",
              "              style=\"display:none;\">\n",
              "        \n",
              "  <svg xmlns=\"http://www.w3.org/2000/svg\" height=\"24px\"viewBox=\"0 0 24 24\"\n",
              "       width=\"24px\">\n",
              "    <path d=\"M0 0h24v24H0V0z\" fill=\"none\"/>\n",
              "    <path d=\"M18.56 5.44l.94 2.06.94-2.06 2.06-.94-2.06-.94-.94-2.06-.94 2.06-2.06.94zm-11 1L8.5 8.5l.94-2.06 2.06-.94-2.06-.94L8.5 2.5l-.94 2.06-2.06.94zm10 10l.94 2.06.94-2.06 2.06-.94-2.06-.94-.94-2.06-.94 2.06-2.06.94z\"/><path d=\"M17.41 7.96l-1.37-1.37c-.4-.4-.92-.59-1.43-.59-.52 0-1.04.2-1.43.59L10.3 9.45l-7.72 7.72c-.78.78-.78 2.05 0 2.83L4 21.41c.39.39.9.59 1.41.59.51 0 1.02-.2 1.41-.59l7.78-7.78 2.81-2.81c.8-.78.8-2.07 0-2.86zM5.41 20L4 18.59l7.72-7.72 1.47 1.35L5.41 20z\"/>\n",
              "  </svg>\n",
              "      </button>\n",
              "      \n",
              "  <style>\n",
              "    .colab-df-container {\n",
              "      display:flex;\n",
              "      flex-wrap:wrap;\n",
              "      gap: 12px;\n",
              "    }\n",
              "\n",
              "    .colab-df-convert {\n",
              "      background-color: #E8F0FE;\n",
              "      border: none;\n",
              "      border-radius: 50%;\n",
              "      cursor: pointer;\n",
              "      display: none;\n",
              "      fill: #1967D2;\n",
              "      height: 32px;\n",
              "      padding: 0 0 0 0;\n",
              "      width: 32px;\n",
              "    }\n",
              "\n",
              "    .colab-df-convert:hover {\n",
              "      background-color: #E2EBFA;\n",
              "      box-shadow: 0px 1px 2px rgba(60, 64, 67, 0.3), 0px 1px 3px 1px rgba(60, 64, 67, 0.15);\n",
              "      fill: #174EA6;\n",
              "    }\n",
              "\n",
              "    [theme=dark] .colab-df-convert {\n",
              "      background-color: #3B4455;\n",
              "      fill: #D2E3FC;\n",
              "    }\n",
              "\n",
              "    [theme=dark] .colab-df-convert:hover {\n",
              "      background-color: #434B5C;\n",
              "      box-shadow: 0px 1px 3px 1px rgba(0, 0, 0, 0.15);\n",
              "      filter: drop-shadow(0px 1px 2px rgba(0, 0, 0, 0.3));\n",
              "      fill: #FFFFFF;\n",
              "    }\n",
              "  </style>\n",
              "\n",
              "      <script>\n",
              "        const buttonEl =\n",
              "          document.querySelector('#df-0256f8cf-e438-48d4-8644-8f456d4ad81c button.colab-df-convert');\n",
              "        buttonEl.style.display =\n",
              "          google.colab.kernel.accessAllowed ? 'block' : 'none';\n",
              "\n",
              "        async function convertToInteractive(key) {\n",
              "          const element = document.querySelector('#df-0256f8cf-e438-48d4-8644-8f456d4ad81c');\n",
              "          const dataTable =\n",
              "            await google.colab.kernel.invokeFunction('convertToInteractive',\n",
              "                                                     [key], {});\n",
              "          if (!dataTable) return;\n",
              "\n",
              "          const docLinkHtml = 'Like what you see? Visit the ' +\n",
              "            '<a target=\"_blank\" href=https://colab.research.google.com/notebooks/data_table.ipynb>data table notebook</a>'\n",
              "            + ' to learn more about interactive tables.';\n",
              "          element.innerHTML = '';\n",
              "          dataTable['output_type'] = 'display_data';\n",
              "          await google.colab.output.renderOutput(dataTable, element);\n",
              "          const docLink = document.createElement('div');\n",
              "          docLink.innerHTML = docLinkHtml;\n",
              "          element.appendChild(docLink);\n",
              "        }\n",
              "      </script>\n",
              "    </div>\n",
              "  </div>\n",
              "  "
            ]
          },
          "metadata": {}
        }
      ],
      "source": [
        "# read data\n",
        "# \"/content/gdrive/MyDrive/Colab Notebooks/Folk Painting Source Data/archive/Images\"\n",
        "# \"/content/gdrive/MyDrive/Colab Notebooks/Folk Painting Source Data/archive/captions.txt\",\n",
        "\n",
        "df = pd.read_csv('/content/gdrive/MyDrive/민화 AI인턴/220320/captions.txt', sep=',')\n",
        "print(len(df))\n",
        "display(df.head(3)) # 데이터가 제대로 읽어와졌는지 확인하기 위해, 상위 3개 caption 출력.\n",
        "display(df.tail(3))\n"
      ]
    },
    {
      "cell_type": "markdown",
      "metadata": {
        "id": "0NiZIdaJUQvy"
      },
      "source": [
        "#데이터 전처리\n",
        "Single Character(단일 문자), non alpha word 제거, 토큰과 ',' 추가.\n",
        "모든 캡션의 최대 길이(max_seq_len)는 33으로 맞춰진다.\n"
      ]
    },
    {
      "cell_type": "code",
      "execution_count": 4,
      "metadata": {
        "id": "yg9145GhUsvF"
      },
      "outputs": [],
      "source": [
        "def remove_single_char_word(word_list):\n",
        "  lst=[]\n",
        "  for word in word_list:\n",
        "    if len(word)>1:\n",
        "      lst.append(word)\n",
        "  return lst"
      ]
    },
    {
      "cell_type": "code",
      "execution_count": 5,
      "metadata": {
        "id": "DPzMzi6oVCMJ",
        "colab": {
          "base_uri": "https://localhost:8080/"
        },
        "outputId": "b996a705-bf5a-4be4-b252-bead35a8c5ce"
      },
      "outputs": [
        {
          "output_type": "stream",
          "name": "stdout",
          "text": [
            "37\n"
          ]
        }
      ],
      "source": [
        "# <start> < > < > ... < > <end> 형태로 캡션 저장 => 최대 길이: 37\n",
        "df['cleaned_caption']=df['caption'].apply(lambda caption : ['<start>']+[word.lower() if word.isalpha() else '' for word in caption.split(\" \")]+['<end>'])\n",
        "\n",
        "# single character 제거\n",
        "df['cleaned_caption']=df['cleaned_caption'].apply(lambda x:remove_single_char_word(x))\n",
        "\n",
        "# seq_len에 길이 저장 => 37\n",
        "df['seq_len']=df['cleaned_caption'].apply(lambda x:len(x))\n",
        "max_seq_len=df['seq_len'].max()\n",
        "print(max_seq_len)"
      ]
    },
    {
      "cell_type": "code",
      "execution_count": 6,
      "metadata": {
        "id": "7g6V7rUAXGgp",
        "colab": {
          "base_uri": "https://localhost:8080/",
          "height": 291
        },
        "outputId": "cedbd0e8-0013-420d-fdd2-fd52cd2bc923"
      },
      "outputs": [
        {
          "output_type": "display_data",
          "data": {
            "text/plain": [
              "          image  \\\n",
              "0  TMP00001.JPG   \n",
              "1  TMP00001.JPG   \n",
              "2  TMP00001.JPG   \n",
              "\n",
              "                                                                       caption  \\\n",
              "0                       This is a Minhwa and it is the Korean folk paintings .   \n",
              "1       This painting is a Hojakdo which is one of the Korean folk paintings .   \n",
              "2  This is a Hojakdo which is the Painting of Tiger and Magpie and Pine Tree .   \n",
              "\n",
              "                                                                                                                                                                                                                                                    cleaned_caption  \n",
              "0      [<start>, this, is, minhwa, and, it, is, the, korean, folk, paintings, <end>, <pad>, <pad>, <pad>, <pad>, <pad>, <pad>, <pad>, <pad>, <pad>, <pad>, <pad>, <pad>, <pad>, <pad>, <pad>, <pad>, <pad>, <pad>, <pad>, <pad>, <pad>, <pad>, <pad>, <pad>, <pad>]  \n",
              "1  [<start>, this, painting, is, hojakdo, which, is, one, of, the, korean, folk, paintings, <end>, <pad>, <pad>, <pad>, <pad>, <pad>, <pad>, <pad>, <pad>, <pad>, <pad>, <pad>, <pad>, <pad>, <pad>, <pad>, <pad>, <pad>, <pad>, <pad>, <pad>, <pad>, <pad>, <pad>]  \n",
              "2         [<start>, this, is, hojakdo, which, is, the, painting, of, tiger, and, magpie, and, pine, tree, <end>, <pad>, <pad>, <pad>, <pad>, <pad>, <pad>, <pad>, <pad>, <pad>, <pad>, <pad>, <pad>, <pad>, <pad>, <pad>, <pad>, <pad>, <pad>, <pad>, <pad>, <pad>]  "
            ],
            "text/html": [
              "\n",
              "  <div id=\"df-51b201a5-75c9-472e-9c55-99fc9fb8db1b\">\n",
              "    <div class=\"colab-df-container\">\n",
              "      <div>\n",
              "<style scoped>\n",
              "    .dataframe tbody tr th:only-of-type {\n",
              "        vertical-align: middle;\n",
              "    }\n",
              "\n",
              "    .dataframe tbody tr th {\n",
              "        vertical-align: top;\n",
              "    }\n",
              "\n",
              "    .dataframe thead th {\n",
              "        text-align: right;\n",
              "    }\n",
              "</style>\n",
              "<table border=\"1\" class=\"dataframe\">\n",
              "  <thead>\n",
              "    <tr style=\"text-align: right;\">\n",
              "      <th></th>\n",
              "      <th>image</th>\n",
              "      <th>caption</th>\n",
              "      <th>cleaned_caption</th>\n",
              "    </tr>\n",
              "  </thead>\n",
              "  <tbody>\n",
              "    <tr>\n",
              "      <th>0</th>\n",
              "      <td>TMP00001.JPG</td>\n",
              "      <td>This is a Minhwa and it is the Korean folk paintings .</td>\n",
              "      <td>[&lt;start&gt;, this, is, minhwa, and, it, is, the, korean, folk, paintings, &lt;end&gt;, &lt;pad&gt;, &lt;pad&gt;, &lt;pad&gt;, &lt;pad&gt;, &lt;pad&gt;, &lt;pad&gt;, &lt;pad&gt;, &lt;pad&gt;, &lt;pad&gt;, &lt;pad&gt;, &lt;pad&gt;, &lt;pad&gt;, &lt;pad&gt;, &lt;pad&gt;, &lt;pad&gt;, &lt;pad&gt;, &lt;pad&gt;, &lt;pad&gt;, &lt;pad&gt;, &lt;pad&gt;, &lt;pad&gt;, &lt;pad&gt;, &lt;pad&gt;, &lt;pad&gt;, &lt;pad&gt;]</td>\n",
              "    </tr>\n",
              "    <tr>\n",
              "      <th>1</th>\n",
              "      <td>TMP00001.JPG</td>\n",
              "      <td>This painting is a Hojakdo which is one of the Korean folk paintings .</td>\n",
              "      <td>[&lt;start&gt;, this, painting, is, hojakdo, which, is, one, of, the, korean, folk, paintings, &lt;end&gt;, &lt;pad&gt;, &lt;pad&gt;, &lt;pad&gt;, &lt;pad&gt;, &lt;pad&gt;, &lt;pad&gt;, &lt;pad&gt;, &lt;pad&gt;, &lt;pad&gt;, &lt;pad&gt;, &lt;pad&gt;, &lt;pad&gt;, &lt;pad&gt;, &lt;pad&gt;, &lt;pad&gt;, &lt;pad&gt;, &lt;pad&gt;, &lt;pad&gt;, &lt;pad&gt;, &lt;pad&gt;, &lt;pad&gt;, &lt;pad&gt;, &lt;pad&gt;]</td>\n",
              "    </tr>\n",
              "    <tr>\n",
              "      <th>2</th>\n",
              "      <td>TMP00001.JPG</td>\n",
              "      <td>This is a Hojakdo which is the Painting of Tiger and Magpie and Pine Tree .</td>\n",
              "      <td>[&lt;start&gt;, this, is, hojakdo, which, is, the, painting, of, tiger, and, magpie, and, pine, tree, &lt;end&gt;, &lt;pad&gt;, &lt;pad&gt;, &lt;pad&gt;, &lt;pad&gt;, &lt;pad&gt;, &lt;pad&gt;, &lt;pad&gt;, &lt;pad&gt;, &lt;pad&gt;, &lt;pad&gt;, &lt;pad&gt;, &lt;pad&gt;, &lt;pad&gt;, &lt;pad&gt;, &lt;pad&gt;, &lt;pad&gt;, &lt;pad&gt;, &lt;pad&gt;, &lt;pad&gt;, &lt;pad&gt;, &lt;pad&gt;]</td>\n",
              "    </tr>\n",
              "  </tbody>\n",
              "</table>\n",
              "</div>\n",
              "      <button class=\"colab-df-convert\" onclick=\"convertToInteractive('df-51b201a5-75c9-472e-9c55-99fc9fb8db1b')\"\n",
              "              title=\"Convert this dataframe to an interactive table.\"\n",
              "              style=\"display:none;\">\n",
              "        \n",
              "  <svg xmlns=\"http://www.w3.org/2000/svg\" height=\"24px\"viewBox=\"0 0 24 24\"\n",
              "       width=\"24px\">\n",
              "    <path d=\"M0 0h24v24H0V0z\" fill=\"none\"/>\n",
              "    <path d=\"M18.56 5.44l.94 2.06.94-2.06 2.06-.94-2.06-.94-.94-2.06-.94 2.06-2.06.94zm-11 1L8.5 8.5l.94-2.06 2.06-.94-2.06-.94L8.5 2.5l-.94 2.06-2.06.94zm10 10l.94 2.06.94-2.06 2.06-.94-2.06-.94-.94-2.06-.94 2.06-2.06.94z\"/><path d=\"M17.41 7.96l-1.37-1.37c-.4-.4-.92-.59-1.43-.59-.52 0-1.04.2-1.43.59L10.3 9.45l-7.72 7.72c-.78.78-.78 2.05 0 2.83L4 21.41c.39.39.9.59 1.41.59.51 0 1.02-.2 1.41-.59l7.78-7.78 2.81-2.81c.8-.78.8-2.07 0-2.86zM5.41 20L4 18.59l7.72-7.72 1.47 1.35L5.41 20z\"/>\n",
              "  </svg>\n",
              "      </button>\n",
              "      \n",
              "  <style>\n",
              "    .colab-df-container {\n",
              "      display:flex;\n",
              "      flex-wrap:wrap;\n",
              "      gap: 12px;\n",
              "    }\n",
              "\n",
              "    .colab-df-convert {\n",
              "      background-color: #E8F0FE;\n",
              "      border: none;\n",
              "      border-radius: 50%;\n",
              "      cursor: pointer;\n",
              "      display: none;\n",
              "      fill: #1967D2;\n",
              "      height: 32px;\n",
              "      padding: 0 0 0 0;\n",
              "      width: 32px;\n",
              "    }\n",
              "\n",
              "    .colab-df-convert:hover {\n",
              "      background-color: #E2EBFA;\n",
              "      box-shadow: 0px 1px 2px rgba(60, 64, 67, 0.3), 0px 1px 3px 1px rgba(60, 64, 67, 0.15);\n",
              "      fill: #174EA6;\n",
              "    }\n",
              "\n",
              "    [theme=dark] .colab-df-convert {\n",
              "      background-color: #3B4455;\n",
              "      fill: #D2E3FC;\n",
              "    }\n",
              "\n",
              "    [theme=dark] .colab-df-convert:hover {\n",
              "      background-color: #434B5C;\n",
              "      box-shadow: 0px 1px 3px 1px rgba(0, 0, 0, 0.15);\n",
              "      filter: drop-shadow(0px 1px 2px rgba(0, 0, 0, 0.3));\n",
              "      fill: #FFFFFF;\n",
              "    }\n",
              "  </style>\n",
              "\n",
              "      <script>\n",
              "        const buttonEl =\n",
              "          document.querySelector('#df-51b201a5-75c9-472e-9c55-99fc9fb8db1b button.colab-df-convert');\n",
              "        buttonEl.style.display =\n",
              "          google.colab.kernel.accessAllowed ? 'block' : 'none';\n",
              "\n",
              "        async function convertToInteractive(key) {\n",
              "          const element = document.querySelector('#df-51b201a5-75c9-472e-9c55-99fc9fb8db1b');\n",
              "          const dataTable =\n",
              "            await google.colab.kernel.invokeFunction('convertToInteractive',\n",
              "                                                     [key], {});\n",
              "          if (!dataTable) return;\n",
              "\n",
              "          const docLinkHtml = 'Like what you see? Visit the ' +\n",
              "            '<a target=\"_blank\" href=https://colab.research.google.com/notebooks/data_table.ipynb>data table notebook</a>'\n",
              "            + ' to learn more about interactive tables.';\n",
              "          element.innerHTML = '';\n",
              "          dataTable['output_type'] = 'display_data';\n",
              "          await google.colab.output.renderOutput(dataTable, element);\n",
              "          const docLink = document.createElement('div');\n",
              "          docLink.innerHTML = docLinkHtml;\n",
              "          element.appendChild(docLink);\n",
              "        }\n",
              "      </script>\n",
              "    </div>\n",
              "  </div>\n",
              "  "
            ]
          },
          "metadata": {}
        }
      ],
      "source": [
        "df.drop(['seq_len'], axis = 1, inplace=True)\n",
        "df['cleaned_caption']=df['cleaned_caption'].apply(lambda caption: caption+['<pad>']*(max_seq_len-len(caption)))\n",
        "\n",
        "# 상위 3개 데이터 예시 출력\n",
        "display(df.head(3))"
      ]
    },
    {
      "cell_type": "markdown",
      "metadata": {
        "id": "uE3b83z5YQnX"
      },
      "source": [
        "# Create Vocab and mapping of token to ID"
      ]
    },
    {
      "cell_type": "code",
      "execution_count": 7,
      "metadata": {
        "id": "TJIvJtpcYPb8",
        "colab": {
          "base_uri": "https://localhost:8080/"
        },
        "outputId": "03ac5e87-bd2b-46e9-a3f8-0fb5e28d564a"
      },
      "outputs": [
        {
          "output_type": "stream",
          "name": "stdout",
          "text": [
            "205\n",
            "['<pad>', 'and', 'is', 'the', '<start>', '<end>', 'of', 'this', 'painting', 'korean', 'folk', 'paintings', 'which', 'minhwa', 'it', 'one', 'are', 'keyword', 'in', 'there']\n"
          ]
        }
      ],
      "source": [
        "word_list=df['cleaned_caption'].apply(lambda x: \" \".join(x)).str.cat(sep=' ').split(' ')  \n",
        "#join: , cat(concat): 문자열 합치기. sep=' '에 의해 한 칸씩 뛰고 저장이 된다.\n",
        "word_dict=Counter(word_list)\n",
        "word_dict=sorted(word_dict, key=word_dict.get, reverse=True)\n",
        "\n",
        "print(len(word_dict))\n",
        "print(word_dict[:20])"
      ]
    },
    {
      "cell_type": "code",
      "execution_count": 8,
      "metadata": {
        "id": "9Le7MdLqZCqq",
        "colab": {
          "base_uri": "https://localhost:8080/"
        },
        "outputId": "b1968949-09e4-489c-bf12-37c0bc3ad528"
      },
      "outputs": [
        {
          "output_type": "stream",
          "name": "stdout",
          "text": [
            "205\n",
            "205 205\n"
          ]
        }
      ],
      "source": [
        "vocab_size=len(word_dict)\n",
        "print(vocab_size)\n",
        "\n",
        "index_to_word = {index: word for index, word in enumerate(word_dict)} #enumerate: 반복문에서 index값(몇번째 요소인지)을 출력\n",
        "word_to_index = {word: index for index, word in enumerate(word_dict)}\n",
        "print(len(index_to_word), len(word_to_index))"
      ]
    },
    {
      "cell_type": "markdown",
      "metadata": {
        "id": "6qEmJhDkawZG"
      },
      "source": [
        "# Convert sequence of tokens to IDs\n",
        "\n",
        "text_seq를 부여함. 단어별로 ID를 부여함."
      ]
    },
    {
      "cell_type": "code",
      "execution_count": 9,
      "metadata": {
        "id": "bwHMQU6sa0am",
        "colab": {
          "base_uri": "https://localhost:8080/",
          "height": 343
        },
        "outputId": "8e26dd6c-6157-42cb-875e-2ccaa79f805f"
      },
      "outputs": [
        {
          "output_type": "display_data",
          "data": {
            "text/plain": [
              "          image  \\\n",
              "0  TMP00001.JPG   \n",
              "1  TMP00001.JPG   \n",
              "2  TMP00001.JPG   \n",
              "\n",
              "                                                                       caption  \\\n",
              "0                       This is a Minhwa and it is the Korean folk paintings .   \n",
              "1       This painting is a Hojakdo which is one of the Korean folk paintings .   \n",
              "2  This is a Hojakdo which is the Painting of Tiger and Magpie and Pine Tree .   \n",
              "\n",
              "                                                                                                                                                                                                                                                    cleaned_caption  \\\n",
              "0      [<start>, this, is, minhwa, and, it, is, the, korean, folk, paintings, <end>, <pad>, <pad>, <pad>, <pad>, <pad>, <pad>, <pad>, <pad>, <pad>, <pad>, <pad>, <pad>, <pad>, <pad>, <pad>, <pad>, <pad>, <pad>, <pad>, <pad>, <pad>, <pad>, <pad>, <pad>, <pad>]   \n",
              "1  [<start>, this, painting, is, hojakdo, which, is, one, of, the, korean, folk, paintings, <end>, <pad>, <pad>, <pad>, <pad>, <pad>, <pad>, <pad>, <pad>, <pad>, <pad>, <pad>, <pad>, <pad>, <pad>, <pad>, <pad>, <pad>, <pad>, <pad>, <pad>, <pad>, <pad>, <pad>]   \n",
              "2         [<start>, this, is, hojakdo, which, is, the, painting, of, tiger, and, magpie, and, pine, tree, <end>, <pad>, <pad>, <pad>, <pad>, <pad>, <pad>, <pad>, <pad>, <pad>, <pad>, <pad>, <pad>, <pad>, <pad>, <pad>, <pad>, <pad>, <pad>, <pad>, <pad>, <pad>]   \n",
              "\n",
              "                                                                                                                text_seq  \n",
              "0    [4, 7, 2, 13, 1, 14, 2, 3, 9, 10, 11, 5, 0, 0, 0, 0, 0, 0, 0, 0, 0, 0, 0, 0, 0, 0, 0, 0, 0, 0, 0, 0, 0, 0, 0, 0, 0]  \n",
              "1   [4, 7, 8, 2, 51, 12, 2, 15, 6, 3, 9, 10, 11, 5, 0, 0, 0, 0, 0, 0, 0, 0, 0, 0, 0, 0, 0, 0, 0, 0, 0, 0, 0, 0, 0, 0, 0]  \n",
              "2  [4, 7, 2, 51, 12, 2, 3, 8, 6, 74, 1, 92, 1, 31, 25, 5, 0, 0, 0, 0, 0, 0, 0, 0, 0, 0, 0, 0, 0, 0, 0, 0, 0, 0, 0, 0, 0]  "
            ],
            "text/html": [
              "\n",
              "  <div id=\"df-23e0d3fd-7fd4-410a-9062-b7c354604a3f\">\n",
              "    <div class=\"colab-df-container\">\n",
              "      <div>\n",
              "<style scoped>\n",
              "    .dataframe tbody tr th:only-of-type {\n",
              "        vertical-align: middle;\n",
              "    }\n",
              "\n",
              "    .dataframe tbody tr th {\n",
              "        vertical-align: top;\n",
              "    }\n",
              "\n",
              "    .dataframe thead th {\n",
              "        text-align: right;\n",
              "    }\n",
              "</style>\n",
              "<table border=\"1\" class=\"dataframe\">\n",
              "  <thead>\n",
              "    <tr style=\"text-align: right;\">\n",
              "      <th></th>\n",
              "      <th>image</th>\n",
              "      <th>caption</th>\n",
              "      <th>cleaned_caption</th>\n",
              "      <th>text_seq</th>\n",
              "    </tr>\n",
              "  </thead>\n",
              "  <tbody>\n",
              "    <tr>\n",
              "      <th>0</th>\n",
              "      <td>TMP00001.JPG</td>\n",
              "      <td>This is a Minhwa and it is the Korean folk paintings .</td>\n",
              "      <td>[&lt;start&gt;, this, is, minhwa, and, it, is, the, korean, folk, paintings, &lt;end&gt;, &lt;pad&gt;, &lt;pad&gt;, &lt;pad&gt;, &lt;pad&gt;, &lt;pad&gt;, &lt;pad&gt;, &lt;pad&gt;, &lt;pad&gt;, &lt;pad&gt;, &lt;pad&gt;, &lt;pad&gt;, &lt;pad&gt;, &lt;pad&gt;, &lt;pad&gt;, &lt;pad&gt;, &lt;pad&gt;, &lt;pad&gt;, &lt;pad&gt;, &lt;pad&gt;, &lt;pad&gt;, &lt;pad&gt;, &lt;pad&gt;, &lt;pad&gt;, &lt;pad&gt;, &lt;pad&gt;]</td>\n",
              "      <td>[4, 7, 2, 13, 1, 14, 2, 3, 9, 10, 11, 5, 0, 0, 0, 0, 0, 0, 0, 0, 0, 0, 0, 0, 0, 0, 0, 0, 0, 0, 0, 0, 0, 0, 0, 0, 0]</td>\n",
              "    </tr>\n",
              "    <tr>\n",
              "      <th>1</th>\n",
              "      <td>TMP00001.JPG</td>\n",
              "      <td>This painting is a Hojakdo which is one of the Korean folk paintings .</td>\n",
              "      <td>[&lt;start&gt;, this, painting, is, hojakdo, which, is, one, of, the, korean, folk, paintings, &lt;end&gt;, &lt;pad&gt;, &lt;pad&gt;, &lt;pad&gt;, &lt;pad&gt;, &lt;pad&gt;, &lt;pad&gt;, &lt;pad&gt;, &lt;pad&gt;, &lt;pad&gt;, &lt;pad&gt;, &lt;pad&gt;, &lt;pad&gt;, &lt;pad&gt;, &lt;pad&gt;, &lt;pad&gt;, &lt;pad&gt;, &lt;pad&gt;, &lt;pad&gt;, &lt;pad&gt;, &lt;pad&gt;, &lt;pad&gt;, &lt;pad&gt;, &lt;pad&gt;]</td>\n",
              "      <td>[4, 7, 8, 2, 51, 12, 2, 15, 6, 3, 9, 10, 11, 5, 0, 0, 0, 0, 0, 0, 0, 0, 0, 0, 0, 0, 0, 0, 0, 0, 0, 0, 0, 0, 0, 0, 0]</td>\n",
              "    </tr>\n",
              "    <tr>\n",
              "      <th>2</th>\n",
              "      <td>TMP00001.JPG</td>\n",
              "      <td>This is a Hojakdo which is the Painting of Tiger and Magpie and Pine Tree .</td>\n",
              "      <td>[&lt;start&gt;, this, is, hojakdo, which, is, the, painting, of, tiger, and, magpie, and, pine, tree, &lt;end&gt;, &lt;pad&gt;, &lt;pad&gt;, &lt;pad&gt;, &lt;pad&gt;, &lt;pad&gt;, &lt;pad&gt;, &lt;pad&gt;, &lt;pad&gt;, &lt;pad&gt;, &lt;pad&gt;, &lt;pad&gt;, &lt;pad&gt;, &lt;pad&gt;, &lt;pad&gt;, &lt;pad&gt;, &lt;pad&gt;, &lt;pad&gt;, &lt;pad&gt;, &lt;pad&gt;, &lt;pad&gt;, &lt;pad&gt;]</td>\n",
              "      <td>[4, 7, 2, 51, 12, 2, 3, 8, 6, 74, 1, 92, 1, 31, 25, 5, 0, 0, 0, 0, 0, 0, 0, 0, 0, 0, 0, 0, 0, 0, 0, 0, 0, 0, 0, 0, 0]</td>\n",
              "    </tr>\n",
              "  </tbody>\n",
              "</table>\n",
              "</div>\n",
              "      <button class=\"colab-df-convert\" onclick=\"convertToInteractive('df-23e0d3fd-7fd4-410a-9062-b7c354604a3f')\"\n",
              "              title=\"Convert this dataframe to an interactive table.\"\n",
              "              style=\"display:none;\">\n",
              "        \n",
              "  <svg xmlns=\"http://www.w3.org/2000/svg\" height=\"24px\"viewBox=\"0 0 24 24\"\n",
              "       width=\"24px\">\n",
              "    <path d=\"M0 0h24v24H0V0z\" fill=\"none\"/>\n",
              "    <path d=\"M18.56 5.44l.94 2.06.94-2.06 2.06-.94-2.06-.94-.94-2.06-.94 2.06-2.06.94zm-11 1L8.5 8.5l.94-2.06 2.06-.94-2.06-.94L8.5 2.5l-.94 2.06-2.06.94zm10 10l.94 2.06.94-2.06 2.06-.94-2.06-.94-.94-2.06-.94 2.06-2.06.94z\"/><path d=\"M17.41 7.96l-1.37-1.37c-.4-.4-.92-.59-1.43-.59-.52 0-1.04.2-1.43.59L10.3 9.45l-7.72 7.72c-.78.78-.78 2.05 0 2.83L4 21.41c.39.39.9.59 1.41.59.51 0 1.02-.2 1.41-.59l7.78-7.78 2.81-2.81c.8-.78.8-2.07 0-2.86zM5.41 20L4 18.59l7.72-7.72 1.47 1.35L5.41 20z\"/>\n",
              "  </svg>\n",
              "      </button>\n",
              "      \n",
              "  <style>\n",
              "    .colab-df-container {\n",
              "      display:flex;\n",
              "      flex-wrap:wrap;\n",
              "      gap: 12px;\n",
              "    }\n",
              "\n",
              "    .colab-df-convert {\n",
              "      background-color: #E8F0FE;\n",
              "      border: none;\n",
              "      border-radius: 50%;\n",
              "      cursor: pointer;\n",
              "      display: none;\n",
              "      fill: #1967D2;\n",
              "      height: 32px;\n",
              "      padding: 0 0 0 0;\n",
              "      width: 32px;\n",
              "    }\n",
              "\n",
              "    .colab-df-convert:hover {\n",
              "      background-color: #E2EBFA;\n",
              "      box-shadow: 0px 1px 2px rgba(60, 64, 67, 0.3), 0px 1px 3px 1px rgba(60, 64, 67, 0.15);\n",
              "      fill: #174EA6;\n",
              "    }\n",
              "\n",
              "    [theme=dark] .colab-df-convert {\n",
              "      background-color: #3B4455;\n",
              "      fill: #D2E3FC;\n",
              "    }\n",
              "\n",
              "    [theme=dark] .colab-df-convert:hover {\n",
              "      background-color: #434B5C;\n",
              "      box-shadow: 0px 1px 3px 1px rgba(0, 0, 0, 0.15);\n",
              "      filter: drop-shadow(0px 1px 2px rgba(0, 0, 0, 0.3));\n",
              "      fill: #FFFFFF;\n",
              "    }\n",
              "  </style>\n",
              "\n",
              "      <script>\n",
              "        const buttonEl =\n",
              "          document.querySelector('#df-23e0d3fd-7fd4-410a-9062-b7c354604a3f button.colab-df-convert');\n",
              "        buttonEl.style.display =\n",
              "          google.colab.kernel.accessAllowed ? 'block' : 'none';\n",
              "\n",
              "        async function convertToInteractive(key) {\n",
              "          const element = document.querySelector('#df-23e0d3fd-7fd4-410a-9062-b7c354604a3f');\n",
              "          const dataTable =\n",
              "            await google.colab.kernel.invokeFunction('convertToInteractive',\n",
              "                                                     [key], {});\n",
              "          if (!dataTable) return;\n",
              "\n",
              "          const docLinkHtml = 'Like what you see? Visit the ' +\n",
              "            '<a target=\"_blank\" href=https://colab.research.google.com/notebooks/data_table.ipynb>data table notebook</a>'\n",
              "            + ' to learn more about interactive tables.';\n",
              "          element.innerHTML = '';\n",
              "          dataTable['output_type'] = 'display_data';\n",
              "          await google.colab.output.renderOutput(dataTable, element);\n",
              "          const docLink = document.createElement('div');\n",
              "          docLink.innerHTML = docLinkHtml;\n",
              "          element.appendChild(docLink);\n",
              "        }\n",
              "      </script>\n",
              "    </div>\n",
              "  </div>\n",
              "  "
            ]
          },
          "metadata": {}
        }
      ],
      "source": [
        "df['text_seq']=df['cleaned_caption'].apply(lambda caption: [word_to_index[word] for word in caption])\n",
        "display(df.head(3))"
      ]
    },
    {
      "cell_type": "markdown",
      "metadata": {
        "id": "-Jcvj_CUbcap"
      },
      "source": [
        "# Split in Train and validation data. \n",
        "(Train과 validation data 나누기) \n",
        "한 데이터가 동시에 training, validation data가 될 수 없음."
      ]
    },
    {
      "cell_type": "code",
      "execution_count": 10,
      "metadata": {
        "id": "VgrKvDBTb2cT",
        "colab": {
          "base_uri": "https://localhost:8080/"
        },
        "outputId": "5c8456ec-62b8-4a42-8f98-a0b4fa46c041"
      },
      "outputs": [
        {
          "output_type": "stream",
          "name": "stdout",
          "text": [
            "6244 1249\n",
            "1561 313\n"
          ]
        }
      ],
      "source": [
        "df=df.sort_values(by='image')\n",
        "train=df.iloc[:int(0.8*len(df))]  # train과 validation의 비율은 10:1\n",
        "valid=df.iloc[int(0.8*len(df)):]\n",
        "\n",
        "print(len(train), train['image'].nunique()) #nunique() : 데이터에 고유값들의 수를 출력, 즉 중복되는 않은 순 단어의 개수 세기\n",
        "print(len(valid), valid['image'].nunique())"
      ]
    },
    {
      "cell_type": "markdown",
      "metadata": {
        "id": "3GahsUZ6c8G3"
      },
      "source": [
        "# Extract features from Images Using Resnet\n",
        "Restnet 구조를 통해 feature 추출"
      ]
    },
    {
      "cell_type": "code",
      "execution_count": 11,
      "metadata": {
        "id": "bnACEQHedBtk",
        "colab": {
          "base_uri": "https://localhost:8080/"
        },
        "outputId": "e4fd5471-7217-4923-d024-6150f2356647"
      },
      "outputs": [
        {
          "output_type": "stream",
          "name": "stdout",
          "text": [
            "6244\n",
            "1249 313\n"
          ]
        }
      ],
      "source": [
        "train_samples=len(train)\n",
        "print(train_samples)  # train 길이 출력\n",
        "\n",
        "unq_train_imgs=train[['image']].drop_duplicates() #중복되는 이미지 제거\n",
        "unq_valid_imgs = valid[['image']].drop_duplicates()\n",
        "print(len(unq_train_imgs), len(unq_valid_imgs))"
      ]
    },
    {
      "cell_type": "code",
      "execution_count": 12,
      "metadata": {
        "id": "8uQhj9YbdHrj",
        "colab": {
          "base_uri": "https://localhost:8080/"
        },
        "outputId": "7b0df223-5c64-42b2-a9cd-d08b0929f8de"
      },
      "outputs": [
        {
          "output_type": "stream",
          "name": "stdout",
          "text": [
            "cuda\n"
          ]
        }
      ],
      "source": [
        "device = torch.device(\"cuda\" if torch.cuda.is_available() else \"cpu\")\n",
        "print(device) #Cuda 사용"
      ]
    },
    {
      "cell_type": "code",
      "source": [
        "# class extractImageFeatureResNetDataSet(): # Resnet 구조를 이용해 이미지의 feature 값들을 추출\n",
        "#   def __init__(self, data):\n",
        "#     self.data=data    \n",
        "#     self.scaler=transforms.Resize([224, 224]) # 이미지 크기 재정의\n",
        "    \n",
        "#     self.normalize=transforms.Normalize(mean=[0.485, 0.456, 0.406], std=[0.229, 0.224, 0.225])\n",
        "#     self.to_tensor=transforms.ToTensor()\n",
        "\n",
        "#   def __len__(self):\n",
        "#     return len(self.data)\n",
        "\n",
        "#   def __getitem__(self, idx):\n",
        "#     image_name=self.data.iloc[idx]['image']\n",
        "#     print(image_name) #image 이름 출력\n",
        "#     img_loc=\"/content/gdrive/MyDrive/민화 AI인턴/220318/images/\" + str(image_name)\n",
        "#     img=Image.open(img_loc)\n",
        "#     width, height = img.size   # Get dimensions\n",
        "#     new_size = min(width, height)\n",
        "#     left   = (width  - new_size)/2\n",
        "#     top    = (height - new_size)/2\n",
        "#     right  = (width  + new_size)/2\n",
        "#     bottom = (height + new_size)/2\n",
        "#     img = img.crop((left, top, right, bottom))\n",
        "#     print(img.size) #image size 출력\n",
        "#     t_img=self.normalize(self.to_tensor(self.scaler(img)))\n",
        "#     return image_name, t_img"
      ],
      "metadata": {
        "id": "SJj4Uo8qliLo"
      },
      "execution_count": 13,
      "outputs": []
    },
    {
      "cell_type": "code",
      "execution_count": 14,
      "metadata": {
        "id": "Adgxal3wd7dc"
      },
      "outputs": [],
      "source": [
        "class extractImageFeatureResNetDataSet(): # Resnet 구조를 이용해 이미지의 feature 값들을 추출\n",
        "  def __init__(self, data):\n",
        "    self.data=data\n",
        "    self.scaler=transforms.Resize([224, 224]) # 이미지 크기 재정의\n",
        "    self.normalize=transforms.Normalize(mean=[0.485, 0.456, 0.406], std=[0.229, 0.224, 0.225])\n",
        "    self.to_tensor=transforms.ToTensor()\n",
        "\n",
        "  def __len__(self):\n",
        "    return len(self.data)\n",
        "\n",
        "  def __getitem__(self, idx):\n",
        "    image_name=self.data.iloc[idx]['image']\n",
        "    img_loc=\"/content/gdrive/MyDrive/민화 AI인턴/220318/images/\" + str(image_name)\n",
        "    img=Image.open(img_loc)\n",
        "    t_img=self.normalize(self.to_tensor(self.scaler(img)))\n",
        "    return image_name, t_img"
      ]
    },
    {
      "cell_type": "code",
      "execution_count": 15,
      "metadata": {
        "id": "bI0XKLzof_ie"
      },
      "outputs": [],
      "source": [
        "from torchvision import transforms"
      ]
    },
    {
      "cell_type": "code",
      "execution_count": 16,
      "metadata": {
        "id": "MYT2KqyqfLQE"
      },
      "outputs": [],
      "source": [
        "train_ImageDataset_ResNet = extractImageFeatureResNetDataSet(unq_train_imgs)  # train 이미지들의 feature를 추출해 저장\n",
        "train_ImageDataloader_ResNet = DataLoader(train_ImageDataset_ResNet, batch_size=1, shuffle=True) # true로 수정, batch size도 클수록 효과가 좋아짐 (2^n 단위로 키우기)\n",
        "\n",
        "valid_ImageDataset_ResNet = extractImageFeatureResNetDataSet(unq_valid_imgs)  # validation 이미지들의 feature를 추출해 저장\n",
        "valid_ImageDataloader_ResNet = DataLoader(valid_ImageDataset_ResNet, batch_size = 1, shuffle=True)"
      ]
    },
    {
      "cell_type": "code",
      "execution_count": 17,
      "metadata": {
        "id": "-uF-7rtlgBAa",
        "colab": {
          "base_uri": "https://localhost:8080/",
          "height": 265,
          "referenced_widgets": [
            "2da812a4fdf942f08ca602d3d8824f6b",
            "115353973deb47efbbdfa5ec3dcda663",
            "35520fe473b74348a57d7b2d393e6c34",
            "208f91cd6d9142939b571094b327793a",
            "b9790f3e9d2f4e6f9b19c1dd1ed89868",
            "4663cdbea45f4a6484bde595166f38eb",
            "16218e6785584cf79b1c3a85f9680d95",
            "0bfcca3f77b647aa872d3ceb36deeeb4",
            "09815d338f934705a15838825d6ad9e0",
            "f11dd6135e284a3499e8b2209995a587",
            "4f3c00cfc47243f4be90a842f55f467b"
          ]
        },
        "outputId": "65daf645-5804-493b-d6d1-39316f8d655d"
      },
      "outputs": [
        {
          "output_type": "stream",
          "name": "stderr",
          "text": [
            "Downloading: \"https://download.pytorch.org/models/resnet18-f37072fd.pth\" to /root/.cache/torch/hub/checkpoints/resnet18-f37072fd.pth\n"
          ]
        },
        {
          "output_type": "display_data",
          "data": {
            "text/plain": [
              "  0%|          | 0.00/44.7M [00:00<?, ?B/s]"
            ],
            "application/vnd.jupyter.widget-view+json": {
              "version_major": 2,
              "version_minor": 0,
              "model_id": "2da812a4fdf942f08ca602d3d8824f6b"
            }
          },
          "metadata": {}
        },
        {
          "output_type": "execute_result",
          "data": {
            "text/plain": [
              "['conv1',\n",
              " 'bn1',\n",
              " 'relu',\n",
              " 'maxpool',\n",
              " 'layer1',\n",
              " 'layer2',\n",
              " 'layer3',\n",
              " 'layer4',\n",
              " 'avgpool',\n",
              " 'fc']"
            ]
          },
          "metadata": {},
          "execution_count": 17
        }
      ],
      "source": [
        "resnet18 = torchvision.models.resnet18(pretrained=True).to(device)\n",
        "resnet18.eval()\n",
        "list(resnet18._modules)"
      ]
    },
    {
      "cell_type": "code",
      "execution_count": 18,
      "metadata": {
        "id": "Lo3e6XEsgpUe"
      },
      "outputs": [],
      "source": [
        "resNet18Layer4 = resnet18._modules.get('layer4').to(device)"
      ]
    },
    {
      "cell_type": "code",
      "execution_count": 19,
      "metadata": {
        "id": "prefUJ0Fgw-e"
      },
      "outputs": [],
      "source": [
        "def get_vector(t_img):\n",
        "  t_img = Variable(t_img)\n",
        "  my_embedding = torch.zeros(1, 512, 7, 7)  # torch.zeros : 0으로 채워진 텐서 생성\n",
        "  def copy_data(m, i, o):\n",
        "    my_embedding.copy_(o.data)\n",
        "\n",
        "  h = resNet18Layer4.register_forward_hook(copy_data)\n",
        "  resnet18(t_img)\n",
        "\n",
        "  h.remove()\n",
        "  return my_embedding"
      ]
    },
    {
      "cell_type": "code",
      "execution_count": 20,
      "metadata": {
        "id": "oVV-0GxWhhjC",
        "colab": {
          "base_uri": "https://localhost:8080/",
          "height": 49,
          "referenced_widgets": [
            "3e3363273c014ab9a76d670a866ba933",
            "16ff583ef3e64154a883f9883656cf55",
            "05252c32abba48c39c2bedd61c5ce113",
            "463c5007ba864220aefd1e532efc7b61",
            "1c97afcaccbb4574b8da2018e4a1d0b7",
            "bb14f946aded43dfa0b09de573e421ed",
            "2942b4698fc84083bdfcd2e91ac1ed32",
            "3c9eb05486254f7589fab79d304b6d81",
            "03c8ee36dbca47df95bbc194702521a4",
            "aabffb5c0724463aad05fccbed679d95",
            "65b02ed19ec94445971addf9fb669395"
          ]
        },
        "outputId": "b51d207e-3910-4f08-ac60-684f6cf105ca"
      },
      "outputs": [
        {
          "output_type": "display_data",
          "data": {
            "text/plain": [
              "  0%|          | 0/1249 [00:00<?, ?it/s]"
            ],
            "application/vnd.jupyter.widget-view+json": {
              "version_major": 2,
              "version_minor": 0,
              "model_id": "3e3363273c014ab9a76d670a866ba933"
            }
          },
          "metadata": {}
        }
      ],
      "source": [
        "extract_imgFtr_ResNet_train = {}  # train 이미지들의 feature 추출\n",
        "for image_name, t_img in tqdm(train_ImageDataloader_ResNet):   # tqdm: 진행률 프로그래스바\n",
        "  t_img = t_img.to(device)\n",
        "  embdg = get_vector(t_img)\n",
        "\n",
        "  extract_imgFtr_ResNet_train[image_name[0]] = embdg"
      ]
    },
    {
      "cell_type": "code",
      "execution_count": 21,
      "metadata": {
        "id": "OdYA3GakskPa"
      },
      "outputs": [],
      "source": [
        "a_file = open(\"./EncodedImageTrainResNet.pkl\", \"wb\")\n",
        "pickle.dump(extract_imgFtr_ResNet_train, a_file)\n",
        "a_file.close()"
      ]
    },
    {
      "cell_type": "code",
      "execution_count": 22,
      "metadata": {
        "id": "JsrvLIwvazSe"
      },
      "outputs": [],
      "source": [
        "#t_image = Image.open(image_name).convert('RGB')"
      ]
    },
    {
      "cell_type": "code",
      "execution_count": 23,
      "metadata": {
        "id": "ufrF_tL6vwOd",
        "colab": {
          "base_uri": "https://localhost:8080/",
          "height": 49,
          "referenced_widgets": [
            "b3a4899623854f6c98d1dbb0e96e2872",
            "3cf84ef4608d477ab916df92ae62d641",
            "ed4947ee32fa476fbfb7f87eccafbe4e",
            "7e088cb99b834172848c5b82be07de11",
            "cb5f9a82b2484b7da86684c3a8f42ee9",
            "577bcf383e5b4acfa8d2566b2758fad6",
            "58e6ae39b4ba4600b45639e93b648632",
            "4dd34932b2504bdab23d8151ae2cdf24",
            "5288209efbae48388d019ef43becbe51",
            "6da2ccb8188640d1a081f47560e0713b",
            "d4e2d42b22f34573a37ed921034c9687"
          ]
        },
        "outputId": "5cbab740-baf0-40c8-f65e-ead216244173"
      },
      "outputs": [
        {
          "output_type": "display_data",
          "data": {
            "text/plain": [
              "  0%|          | 0/313 [00:00<?, ?it/s]"
            ],
            "application/vnd.jupyter.widget-view+json": {
              "version_major": 2,
              "version_minor": 0,
              "model_id": "b3a4899623854f6c98d1dbb0e96e2872"
            }
          },
          "metadata": {}
        }
      ],
      "source": [
        "extract_imgFtr_ResNet_valid = {}\n",
        "for image_name, t_img in tqdm(valid_ImageDataloader_ResNet):\n",
        "  t_img = t_img.to(device)\n",
        "  embdg = get_vector(t_img)\n",
        "  extract_imgFtr_ResNet_valid[image_name[0]] = embdg"
      ]
    },
    {
      "cell_type": "code",
      "execution_count": 24,
      "metadata": {
        "id": "gh2T2LZgxPzz"
      },
      "outputs": [],
      "source": [
        "a_file=open(\"./EncodedImageValidResNet.pkl\", \"wb\")\n",
        "pickle.dump(extract_imgFtr_ResNet_valid, a_file)\n",
        "a_file.close()"
      ]
    },
    {
      "cell_type": "markdown",
      "metadata": {
        "id": "WvZ_ZNcfxemo"
      },
      "source": [
        "#Create DataLoader which will be used to load data into Transformer Model\n",
        "Transformer 모델에 데이터를 load하는데 사용할 dataloader을 생성\n",
        "\n",
        "(FlickerDataSetResnet will return caption sequence, 1 timestep left shifted caption sequence which model will predict and Stored Image features from ResNet.)"
      ]
    },
    {
      "cell_type": "code",
      "execution_count": 25,
      "metadata": {
        "id": "VKLrsjISxsAb"
      },
      "outputs": [],
      "source": [
        "global image_tensor_view\n",
        "\n",
        "class FlickerDataSetResnet():\n",
        "  def __init__(self, data, pkl_file):\n",
        "    self.data=data\n",
        "    self.encodedImgs = pd.read_pickle(pkl_file)\n",
        "\n",
        "  def __len__(self):\n",
        "    return len(self.data)\n",
        "\n",
        "  def __getitem__(self, idx):\n",
        "    caption_seq = self.data.iloc[idx]['text_seq']\n",
        "    target_seq = caption_seq[1:]+[0]\n",
        "\n",
        "    image_name = self.data.iloc[idx]['image']\n",
        "    image_tensor = self.encodedImgs[image_name]\n",
        "    image_tensor = image_tensor.permute(0,2,3,1)  # tensor의 모양을 변환. permute는 모든 차원을 교환할 수 있음.\n",
        "    image_tensor_view = image_tensor.view(image_tensor.size(0), -1, image_tensor.size(3))\n",
        "    return torch.tensor(caption_seq), torch.tensor(target_seq), image_tensor_view"
      ]
    },
    {
      "cell_type": "code",
      "execution_count": 26,
      "metadata": {
        "id": "b68OlBBkzeVv"
      },
      "outputs": [],
      "source": [
        "train_dataset_resnet = FlickerDataSetResnet(train, 'EncodedImageTrainResNet.pkl')\n",
        "train_dataloader_resnet = DataLoader(train_dataset_resnet, batch_size = 32, shuffle=True)"
      ]
    },
    {
      "cell_type": "code",
      "execution_count": 27,
      "metadata": {
        "id": "kk7ZnrRTzyDE"
      },
      "outputs": [],
      "source": [
        "valid_dataset_resnet = FlickerDataSetResnet(valid, 'EncodedImageValidResNet.pkl')\n",
        "valid_dataloader_resnet = DataLoader(valid_dataset_resnet, batch_size = 32, shuffle = True)"
      ]
    },
    {
      "cell_type": "markdown",
      "metadata": {
        "id": "85d1uNFUz9U9"
      },
      "source": [
        "#Create Transformer Decoder Model\n",
        "This model will take caption sequence and the extracted resnet image features as input and output 1 timestep shifted caption sequence.\n",
        "\n",
        "In the Transformer decoder, lookAhead and padding mask has also been applied"
      ]
    },
    {
      "cell_type": "code",
      "execution_count": 28,
      "metadata": {
        "id": "3foX7DT_0Mc5"
      },
      "outputs": [],
      "source": [
        "# Position Embedding\n",
        "\n",
        "class PositionalEncoding(nn.Module):\n",
        "\n",
        "    def __init__(self, d_model, dropout=0.1, max_len=max_seq_len):\n",
        "        super(PositionalEncoding, self).__init__()\n",
        "        self.dropout = nn.Dropout(p=dropout)\n",
        "\n",
        "        pe = torch.zeros(max_len, d_model)\n",
        "        position = torch.arange(0, max_len, dtype=torch.float).unsqueeze(1)\n",
        "        div_term = torch.exp(torch.arange(0, d_model, 2).float() * (-math.log(10000.0) / d_model))\n",
        "        pe[:, 0::2] = torch.sin(position * div_term)\n",
        "        pe[:, 1::2] = torch.cos(position * div_term)\n",
        "        pe = pe.unsqueeze(0)\n",
        "        self.register_buffer('pe', pe)\n",
        "        \n",
        "\n",
        "    def forward(self, x):\n",
        "        if self.pe.size(0) < x.size(0):\n",
        "            self.pe = self.pe.repeat(x.size(0), 1, 1).to(device)\n",
        "        self.pe = self.pe[:x.size(0), : , : ]\n",
        "        \n",
        "        x = x + self.pe\n",
        "        return self.dropout(x)"
      ]
    },
    {
      "cell_type": "code",
      "execution_count": 29,
      "metadata": {
        "id": "zr6e9zrI06pX"
      },
      "outputs": [],
      "source": [
        "# Image Captioning Model\n",
        "# Transformer Decoder\n",
        "\n",
        "class ImageCaptionModel(nn.Module):\n",
        "    def __init__(self, n_head, n_decoder_layer, vocab_size, embedding_size):\n",
        "        super(ImageCaptionModel, self).__init__()\n",
        "        self.pos_encoder = PositionalEncoding(embedding_size, 0.1)\n",
        "        self.TransformerDecoderLayer = nn.TransformerDecoderLayer(d_model =  embedding_size, nhead = n_head)\n",
        "        self.TransformerDecoder = nn.TransformerDecoder(decoder_layer = self.TransformerDecoderLayer, num_layers = n_decoder_layer)\n",
        "        self.embedding_size = embedding_size\n",
        "        self.embedding = nn.Embedding(vocab_size , embedding_size)\n",
        "        self.last_linear_layer = nn.Linear(embedding_size, vocab_size)\n",
        "        self.init_weights()\n",
        "\n",
        "    def init_weights(self):\n",
        "        initrange = 0.1\n",
        "        self.embedding.weight.data.uniform_(-initrange, initrange)\n",
        "        self.last_linear_layer.bias.data.zero_()\n",
        "        self.last_linear_layer.weight.data.uniform_(-initrange, initrange)\n",
        "\n",
        "    def generate_Mask(self, size, decoder_inp):\n",
        "        decoder_input_mask = (torch.triu(torch.ones(size, size)) == 1).transpose(0, 1)\n",
        "        decoder_input_mask = decoder_input_mask.float().masked_fill(decoder_input_mask == 0, float('-inf')).masked_fill(decoder_input_mask == 1, float(0.0))\n",
        "\n",
        "        decoder_input_pad_mask = decoder_inp.float().masked_fill(decoder_inp == 0, float(0.0)).masked_fill(decoder_inp > 0, float(1.0))\n",
        "        decoder_input_pad_mask_bool = decoder_inp == 0\n",
        "\n",
        "        return decoder_input_mask, decoder_input_pad_mask, decoder_input_pad_mask_bool\n",
        "\n",
        "    def forward(self, encoded_image, decoder_inp):\n",
        "        encoded_image = encoded_image.permute(1,0,2)\n",
        "        \n",
        "\n",
        "        decoder_inp_embed = self.embedding(decoder_inp)* math.sqrt(self.embedding_size)\n",
        "        \n",
        "        decoder_inp_embed = self.pos_encoder(decoder_inp_embed)\n",
        "        decoder_inp_embed = decoder_inp_embed.permute(1,0,2)\n",
        "        \n",
        "\n",
        "        decoder_input_mask, decoder_input_pad_mask, decoder_input_pad_mask_bool = self.generate_Mask(decoder_inp.size(1), decoder_inp)\n",
        "        decoder_input_mask = decoder_input_mask.to(device)\n",
        "        decoder_input_pad_mask = decoder_input_pad_mask.to(device)\n",
        "        decoder_input_pad_mask_bool = decoder_input_pad_mask_bool.to(device)\n",
        "        \n",
        "\n",
        "        decoder_output = self.TransformerDecoder(tgt = decoder_inp_embed, memory = encoded_image, tgt_mask = decoder_input_mask, tgt_key_padding_mask = decoder_input_pad_mask_bool)\n",
        "        \n",
        "        final_output = self.last_linear_layer(decoder_output)\n",
        "\n",
        "        return final_output,  decoder_input_pad_mask"
      ]
    },
    {
      "cell_type": "markdown",
      "metadata": {
        "id": "J8tB5zB-1q6y"
      },
      "source": [
        "#Train the Model\n",
        "\n",
        "The cross entropy loss has been masked at time steps where input token is <'pad'>."
      ]
    },
    {
      "cell_type": "code",
      "execution_count": 33,
      "metadata": {
        "id": "b4q6WfLi1spY"
      },
      "outputs": [],
      "source": [
        "#EPOCH = 300\n",
        "#EPOCH = 150\n",
        "#EPOCH = 100\n",
        "EPOCH = 30"
      ]
    },
    {
      "cell_type": "code",
      "execution_count": 34,
      "metadata": {
        "id": "s6CVlkLv1_IM",
        "colab": {
          "base_uri": "https://localhost:8080/"
        },
        "outputId": "e570d2d9-8afe-4c95-c9a1-702752c86f5d"
      },
      "outputs": [
        {
          "output_type": "stream",
          "name": "stderr",
          "text": [
            "/usr/local/lib/python3.7/dist-packages/ipykernel_launcher.py:5: DeprecationWarning: `np.float` is a deprecated alias for the builtin `float`. To silence this warning, use `float` by itself. Doing this will not modify any behavior and is safe. If you specifically wanted the numpy scalar type, use `np.float64` here.\n",
            "Deprecated in NumPy 1.20; for more details and guidance: https://numpy.org/devdocs/release/1.20.0-notes.html#deprecations\n",
            "  \"\"\"\n"
          ]
        }
      ],
      "source": [
        "ictModel = ImageCaptionModel(16, 4, vocab_size, 512).to(device)\n",
        "optimizer = torch.optim.Adam(ictModel.parameters(), lr = 0.00001)\n",
        "scheduler = torch.optim.lr_scheduler.ReduceLROnPlateau(optimizer, factor = 0.8, patience=2, verbose=True)\n",
        "criterion=torch.nn.CrossEntropyLoss(reduction='none')\n",
        "min_val_loss=np.float('Inf')"
      ]
    },
    {
      "cell_type": "code",
      "execution_count": 35,
      "metadata": {
        "id": "CSFa1zkW2cBc",
        "colab": {
          "base_uri": "https://localhost:8080/",
          "height": 870,
          "referenced_widgets": [
            "d90ee14e79224e19a3cf08f30c2a0976",
            "accbffc8572a4ba99b75d2d2586e4b97",
            "8ca3c84a2eca4987bfb04e825d488b06",
            "a1fda16d7dc74928aa75de4414e9dca1",
            "b71a25c0e1dc49e8a17581fe4fcce261",
            "da9a25616da144abb84cdbe23074becb",
            "b11bf0c3a68c4e09a5b94ac492f52ba1",
            "a52bec3b344a4716adf839fe9470582e",
            "eb78771ea79f44989318ef2402638b69",
            "da4fdfe786a64482837916250e317e60",
            "959a4a28f6384970a927265e7af1b419"
          ]
        },
        "outputId": "17bb28ef-a35d-44da-e47d-ef88a9583a69"
      },
      "outputs": [
        {
          "output_type": "display_data",
          "data": {
            "text/plain": [
              "  0%|          | 0/30 [00:00<?, ?it/s]"
            ],
            "application/vnd.jupyter.widget-view+json": {
              "version_major": 2,
              "version_minor": 0,
              "model_id": "d90ee14e79224e19a3cf08f30c2a0976"
            }
          },
          "metadata": {}
        },
        {
          "output_type": "stream",
          "name": "stdout",
          "text": [
            "Epoch ->  0  Training Loss ->  2.8190088272094727 Eval Loss ->  1.936754584312439\n",
            "Writing Model at epoch  0\n",
            "Epoch ->  1  Training Loss ->  1.1677014827728271 Eval Loss ->  1.6492831707000732\n",
            "Writing Model at epoch  1\n",
            "Epoch ->  2  Training Loss ->  0.7627451419830322 Eval Loss ->  1.6230123043060303\n",
            "Writing Model at epoch  2\n",
            "Epoch ->  3  Training Loss ->  0.564805269241333 Eval Loss ->  1.5939277410507202\n",
            "Writing Model at epoch  3\n",
            "Epoch ->  4  Training Loss ->  0.43758049607276917 Eval Loss ->  1.5812901258468628\n",
            "Writing Model at epoch  4\n",
            "Epoch ->  5  Training Loss ->  0.35280731320381165 Eval Loss ->  1.581132173538208\n",
            "Writing Model at epoch  5\n",
            "Epoch ->  6  Training Loss ->  0.2969561219215393 Eval Loss ->  1.5678242444992065\n",
            "Writing Model at epoch  6\n",
            "Epoch ->  7  Training Loss ->  0.26112696528434753 Eval Loss ->  1.5602017641067505\n",
            "Writing Model at epoch  7\n",
            "Epoch ->  8  Training Loss ->  0.23569203913211823 Eval Loss ->  1.5526103973388672\n",
            "Writing Model at epoch  8\n",
            "Epoch ->  9  Training Loss ->  0.21643485128879547 Eval Loss ->  1.5637810230255127\n",
            "Epoch ->  10  Training Loss ->  0.2028837502002716 Eval Loss ->  1.5711826086044312\n",
            "Epoch ->  11  Training Loss ->  0.19137544929981232 Eval Loss ->  1.5973052978515625\n",
            "Epoch    12: reducing learning rate of group 0 to 8.0000e-06.\n",
            "Epoch ->  12  Training Loss ->  0.18222373723983765 Eval Loss ->  1.58576500415802\n",
            "Epoch ->  13  Training Loss ->  0.17644742131233215 Eval Loss ->  1.6009775400161743\n",
            "Epoch ->  14  Training Loss ->  0.17115461826324463 Eval Loss ->  1.592635154724121\n",
            "Epoch    15: reducing learning rate of group 0 to 6.4000e-06.\n",
            "Epoch ->  15  Training Loss ->  0.16541430354118347 Eval Loss ->  1.6112961769104004\n",
            "Epoch ->  16  Training Loss ->  0.16158033907413483 Eval Loss ->  1.6164910793304443\n",
            "Epoch ->  17  Training Loss ->  0.15771125257015228 Eval Loss ->  1.6272540092468262\n",
            "Epoch    18: reducing learning rate of group 0 to 5.1200e-06.\n",
            "Epoch ->  18  Training Loss ->  0.15552496910095215 Eval Loss ->  1.6420484781265259\n",
            "Epoch ->  19  Training Loss ->  0.15340645611286163 Eval Loss ->  1.6343379020690918\n",
            "Epoch ->  20  Training Loss ->  0.15037879347801208 Eval Loss ->  1.6467100381851196\n",
            "Epoch    21: reducing learning rate of group 0 to 4.0960e-06.\n",
            "Epoch ->  21  Training Loss ->  0.1483609676361084 Eval Loss ->  1.6596497297286987\n",
            "Epoch ->  22  Training Loss ->  0.14737467467784882 Eval Loss ->  1.6552177667617798\n",
            "Epoch ->  23  Training Loss ->  0.14500954747200012 Eval Loss ->  1.6701593399047852\n",
            "Epoch    24: reducing learning rate of group 0 to 3.2768e-06.\n",
            "Epoch ->  24  Training Loss ->  0.14269843697547913 Eval Loss ->  1.6758733987808228\n",
            "Epoch ->  25  Training Loss ->  0.14153850078582764 Eval Loss ->  1.660038709640503\n",
            "Epoch ->  26  Training Loss ->  0.1404842883348465 Eval Loss ->  1.6797337532043457\n",
            "Epoch    27: reducing learning rate of group 0 to 2.6214e-06.\n",
            "Epoch ->  27  Training Loss ->  0.13956457376480103 Eval Loss ->  1.6839032173156738\n",
            "Epoch ->  28  Training Loss ->  0.1384238749742508 Eval Loss ->  1.6902104616165161\n",
            "Epoch ->  29  Training Loss ->  0.1373758614063263 Eval Loss ->  1.6837893724441528\n",
            "Epoch    30: reducing learning rate of group 0 to 2.0972e-06.\n"
          ]
        }
      ],
      "source": [
        "for epoch in tqdm(range(EPOCH)):\n",
        "    total_epoch_train_loss = 0\n",
        "    total_epoch_valid_loss = 0\n",
        "    total_train_words = 0\n",
        "    total_valid_words = 0\n",
        "    ictModel.train()\n",
        "\n",
        "    ### Train Loop\n",
        "    for caption_seq, target_seq, image_embed in train_dataloader_resnet:\n",
        "        optimizer.zero_grad()\n",
        "\n",
        "        image_embed = image_embed.squeeze(1).to(device)\n",
        "        caption_seq = caption_seq.to(device)\n",
        "        target_seq = target_seq.to(device)\n",
        "\n",
        "        output, padding_mask = ictModel.forward(image_embed, caption_seq)\n",
        "        output = output.permute(1, 2, 0)\n",
        "\n",
        "        loss = criterion(output,target_seq)\n",
        "\n",
        "        loss_masked = torch.mul(loss, padding_mask)\n",
        "\n",
        "        final_batch_loss = torch.sum(loss_masked)/torch.sum(padding_mask)\n",
        "\n",
        "        final_batch_loss.backward()\n",
        "        optimizer.step()\n",
        "        total_epoch_train_loss += torch.sum(loss_masked).detach().item()\n",
        "        total_train_words += torch.sum(padding_mask)\n",
        "\n",
        " \n",
        "    total_epoch_train_loss = total_epoch_train_loss/total_train_words\n",
        "  \n",
        "\n",
        "    ### Eval Loop\n",
        "    ictModel.eval()\n",
        "    with torch.no_grad():\n",
        "        for caption_seq, target_seq, image_embed in valid_dataloader_resnet:\n",
        "\n",
        "            image_embed = image_embed.squeeze(1).to(device)\n",
        "            caption_seq = caption_seq.to(device)\n",
        "            target_seq = target_seq.to(device)\n",
        "\n",
        "            output, padding_mask = ictModel.forward(image_embed, caption_seq)\n",
        "            output = output.permute(1, 2, 0)\n",
        "\n",
        "            loss = criterion(output,target_seq)\n",
        "\n",
        "            loss_masked = torch.mul(loss, padding_mask)\n",
        "\n",
        "            total_epoch_valid_loss += torch.sum(loss_masked).detach().item()\n",
        "            total_valid_words += torch.sum(padding_mask)\n",
        "\n",
        "    total_epoch_valid_loss = total_epoch_valid_loss/total_valid_words\n",
        "  \n",
        "    print(\"Epoch -> \", epoch,\" Training Loss -> \", total_epoch_train_loss.item(), \"Eval Loss -> \", total_epoch_valid_loss.item() )\n",
        "  \n",
        "    if min_val_loss > total_epoch_valid_loss:\n",
        "        print(\"Writing Model at epoch \", epoch)\n",
        "        torch.save(ictModel, './BestModel')\n",
        "        min_val_loss = total_epoch_valid_loss\n",
        "  \n",
        "\n",
        "    scheduler.step(total_epoch_valid_loss.item())"
      ]
    },
    {
      "cell_type": "markdown",
      "metadata": {
        "id": "ZvnXbZkoPBr-"
      },
      "source": [
        "#Generate Captions"
      ]
    },
    {
      "cell_type": "code",
      "execution_count": 63,
      "metadata": {
        "id": "gyRvVnuRPDxK",
        "colab": {
          "base_uri": "https://localhost:8080/"
        },
        "outputId": "8aa82d84-1858-494d-f7e6-e8074055a676"
      },
      "outputs": [
        {
          "output_type": "stream",
          "name": "stdout",
          "text": [
            "4 5 0\n"
          ]
        }
      ],
      "source": [
        "model = torch.load('./BestModel')\n",
        "start_token = word_to_index['<start>']\n",
        "end_token = word_to_index['<end>']\n",
        "pad_token = word_to_index['<pad>']\n",
        "max_seq_len = 37  # 캡션의 max length\n",
        "print(start_token, end_token, pad_token)"
      ]
    },
    {
      "cell_type": "code",
      "execution_count": 37,
      "metadata": {
        "id": "APAiU6mRPKlQ"
      },
      "outputs": [],
      "source": [
        "valid_img_embed = pd.read_pickle('EncodedImageValidResNet.pkl')"
      ]
    },
    {
      "cell_type": "code",
      "execution_count": 64,
      "metadata": {
        "id": "zE5h8elhPNB_"
      },
      "outputs": [],
      "source": [
        "# 정답 배열 초기화\n",
        "result_predicted_sentece=[] #정확도(캡션의 정답률) 측정을 위해 결과 값을 배열에 따로 저장함 (이미지 번호, 정답캡션, 예측된 캡션)\n",
        "\n",
        "def generate_caption(K, img_nm): \n",
        "    img_loc = '/content/gdrive/MyDrive/민화 AI인턴/220318/images/'+str(img_nm)\n",
        "    image = Image.open(img_loc).convert(\"RGB\")\n",
        "    # plt.imshow(image)\n",
        "\n",
        "    model.eval() \n",
        "    valid_img_df = valid[valid['image']==img_nm]\n",
        "    # print(\"Actual Caption : \")\n",
        "    # print(valid_img_df['caption'].tolist())\n",
        "    img_embed = valid_img_embed[img_nm].to(device)\n",
        "\n",
        "\n",
        "    img_embed = img_embed.permute(0,2,3,1)\n",
        "    img_embed = img_embed.view(img_embed.size(0), -1, img_embed.size(3))\n",
        "\n",
        "\n",
        "    input_seq = [pad_token]*max_seq_len\n",
        "    input_seq[0] = start_token\n",
        "\n",
        "    input_seq = torch.tensor(input_seq).unsqueeze(0).to(device)\n",
        "    predicted_sentence = []\n",
        "    with torch.no_grad():\n",
        "        for eval_iter in range(0, max_seq_len):\n",
        "\n",
        "            output, padding_mask = model.forward(img_embed, input_seq)\n",
        "\n",
        "            output = output[eval_iter, 0, :]\n",
        "\n",
        "            values = torch.topk(output, K).values.tolist()\n",
        "            indices = torch.topk(output, K).indices.tolist()\n",
        "\n",
        "            next_word_index = random.choices(indices, values, k = 1)[0]\n",
        "\n",
        "            next_word = index_to_word[next_word_index]\n",
        "\n",
        "            input_seq[:, eval_iter+1] = next_word_index\n",
        "\n",
        "\n",
        "            if next_word == '<end>' :\n",
        "                break\n",
        "\n",
        "            predicted_sentence.append(next_word)\n",
        "            result_predicted_sentece.append(img_nm)   #이미지 번호, 정답 캡션, 예측 캡션\n",
        "            result_predicted_sentece.append(valid_img_df['caption'].tolist())\n",
        "            result_predicted_sentece.append(predicted_sentence)\n",
        "            result_predicted_sentece.append('\\n')\n",
        "    # print(\"\\n\")\n",
        "    # print(\"Predicted caption : \")\n",
        "    # print(\" \".join(predicted_sentence+['.']))"
      ]
    },
    {
      "cell_type": "markdown",
      "metadata": {
        "id": "mhe5uA6sXN87"
      },
      "source": [
        "##Test \n",
        "Training images 300장 예측 캡션 생성"
      ]
    },
    {
      "cell_type": "code",
      "execution_count": 40,
      "metadata": {
        "id": "yKHbClPqySoG"
      },
      "outputs": [],
      "source": [
        "# for i in range(1, 10):\n",
        "#   generate_caption(1, unq_train_imgs.iloc[2]['image'])\n",
        "#   print(\"\\n\")"
      ]
    },
    {
      "cell_type": "code",
      "execution_count": 41,
      "metadata": {
        "id": "iMsK-d5ez9IB"
      },
      "outputs": [],
      "source": [
        "# for i in range(1, 10):\n",
        "#   generate_caption(1, unq_train_imgs.iloc[3]['image'])\n",
        "#   print(\"\\n\")"
      ]
    },
    {
      "cell_type": "code",
      "source": [
        "# for j in range(0, 300):\n",
        "#   for i in range(1, 11):\n",
        "#     generate_caption(1, unq_train_imgs.iloc[j]['image'])"
      ],
      "metadata": {
        "id": "PZkm_RJCckcQ"
      },
      "execution_count": 43,
      "outputs": []
    },
    {
      "cell_type": "code",
      "source": [
        "# import pandas as pd \n",
        "# import numpy as np\n",
        "\n",
        "# pd.DataFrame(result_predicted_sentece).to_csv('result_training set.csv')   # 이미지 번호, 정답 캡션, 예측 캡션 결과를 csv 파일에 저장"
      ],
      "metadata": {
        "id": "_mPaNnx1dEIb"
      },
      "execution_count": 44,
      "outputs": []
    },
    {
      "cell_type": "markdown",
      "source": [
        "##validation image 313장\n",
        "예측 캡션 출력 및 csv파일 저장"
      ],
      "metadata": {
        "id": "32xkN2KQitVC"
      }
    },
    {
      "cell_type": "code",
      "source": [
        "# 정답 배열 초기화\n",
        "result_predicted_sentece2=[] #정확도(캡션의 정답률) 측정을 위해 결과 값을 배열에 따로 저장함 (이미지 번호, 정답캡션, 예측된 캡션)\n",
        "\n",
        "def generate_caption(K, img_nm): \n",
        "    img_loc = '/content/gdrive/MyDrive/민화 AI인턴/220318/images/'+str(img_nm)\n",
        "    image = Image.open(img_loc).convert(\"RGB\")\n",
        "    # plt.imshow(image)\n",
        "\n",
        "    model.eval() \n",
        "    valid_img_df = valid[valid['image']==img_nm]\n",
        "    # print(\"Actual Caption : \")\n",
        "    # print(valid_img_df['caption'].tolist())\n",
        "    img_embed = valid_img_embed[img_nm].to(device)\n",
        "\n",
        "\n",
        "    img_embed = img_embed.permute(0,2,3,1)\n",
        "    img_embed = img_embed.view(img_embed.size(0), -1, img_embed.size(3))\n",
        "\n",
        "\n",
        "    input_seq = [pad_token]*max_seq_len\n",
        "    input_seq[0] = start_token\n",
        "\n",
        "    input_seq = torch.tensor(input_seq).unsqueeze(0).to(device)\n",
        "    predicted_sentence = []\n",
        "    with torch.no_grad():\n",
        "        for eval_iter in range(0, max_seq_len):\n",
        "\n",
        "            output, padding_mask = model.forward(img_embed, input_seq)\n",
        "\n",
        "            output = output[eval_iter, 0, :]\n",
        "\n",
        "            values = torch.topk(output, K).values.tolist()\n",
        "            indices = torch.topk(output, K).indices.tolist()\n",
        "\n",
        "            next_word_index = random.choices(indices, values, k = 1)[0]\n",
        "\n",
        "            next_word = index_to_word[next_word_index]\n",
        "\n",
        "            input_seq[:, eval_iter+1] = next_word_index\n",
        "\n",
        "\n",
        "            if next_word == '<end>' :\n",
        "                break\n",
        "\n",
        "            predicted_sentence.append(next_word)\n",
        "            result_predicted_sentece2.append(img_nm)   #이미지 번호, 정답 캡션, 예측 캡션\n",
        "            result_predicted_sentece2.append(valid_img_df['caption'].tolist())\n",
        "            result_predicted_sentece2.append(predicted_sentence)\n",
        "            result_predicted_sentece2.append('\\n')\n",
        "    # print(\"\\n\")\n",
        "    # print(\"Predicted caption : \")\n",
        "    # print(\" \".join(predicted_sentence+['.']))"
      ],
      "metadata": {
        "id": "JgYDDCKfinwa"
      },
      "execution_count": 65,
      "outputs": []
    },
    {
      "cell_type": "code",
      "source": [
        "for j in range(0, 313):\n",
        "    generate_caption(1, unq_valid_imgs.iloc[j]['image'])"
      ],
      "metadata": {
        "id": "Jhf4ni3GrDZb"
      },
      "execution_count": null,
      "outputs": []
    },
    {
      "cell_type": "code",
      "source": [
        "import pandas as pd \n",
        "import numpy as np\n",
        "\n",
        "pd.DataFrame(result_predicted_sentece2).to_csv('result_validation set.csv')   # 이미지 번호, 정답 캡션, 예측 캡션 결과를 csv 파일에 저장"
      ],
      "metadata": {
        "id": "5IMblRtkjKGw"
      },
      "execution_count": 50,
      "outputs": []
    },
    {
      "cell_type": "markdown",
      "source": [
        "###Validation dataset 테스트 예시 출력"
      ],
      "metadata": {
        "id": "M8cq9Qt1k0pl"
      }
    },
    {
      "cell_type": "code",
      "source": [
        "def generate_caption(K, img_nm): \n",
        "    img_loc = '/content/gdrive/MyDrive/민화 AI인턴/220318/images/'+str(img_nm)\n",
        "    image = Image.open(img_loc).convert(\"RGB\")\n",
        "    plt.imshow(image)\n",
        "\n",
        "    model.eval() \n",
        "    valid_img_df = valid[valid['image']==img_nm]\n",
        "    print(\"Actual Caption : \")\n",
        "    print(valid_img_df['caption'].tolist())\n",
        "    img_embed = valid_img_embed[img_nm].to(device)\n",
        "\n",
        "\n",
        "    img_embed = img_embed.permute(0,2,3,1)\n",
        "    img_embed = img_embed.view(img_embed.size(0), -1, img_embed.size(3))\n",
        "\n",
        "\n",
        "    input_seq = [pad_token]*max_seq_len\n",
        "    input_seq[0] = start_token\n",
        "\n",
        "    input_seq = torch.tensor(input_seq).unsqueeze(0).to(device)\n",
        "    predicted_sentence = []\n",
        "    with torch.no_grad():\n",
        "        for eval_iter in range(0, max_seq_len):\n",
        "\n",
        "            output, padding_mask = model.forward(img_embed, input_seq)\n",
        "\n",
        "            output = output[eval_iter, 0, :]\n",
        "\n",
        "            values = torch.topk(output, K).values.tolist()    #topk: top K번째의 결과 출력\n",
        "            indices = torch.topk(output, K).indices.tolist()\n",
        "\n",
        "            next_word_index = random.choices(indices, values, k = 1)[0]\n",
        "\n",
        "            next_word = index_to_word[next_word_index]\n",
        "\n",
        "            input_seq[:, eval_iter+1] = next_word_index\n",
        "\n",
        "\n",
        "            if next_word == '<end>' :\n",
        "                break\n",
        "\n",
        "            predicted_sentence.append(next_word)\n",
        "            result_predicted_sentece2.append(img_nm)   #이미지 번호, 정답 캡션, 예측 캡션\n",
        "            result_predicted_sentece2.append(valid_img_df['caption'].tolist())\n",
        "            result_predicted_sentece2.append(predicted_sentence)\n",
        "            result_predicted_sentece2.append('\\n')\n",
        "    print(\"\\n\")\n",
        "    print(\"Predicted caption : \")\n",
        "    print(\" \".join(predicted_sentence+['.']))"
      ],
      "metadata": {
        "id": "m934bT6gk0xm"
      },
      "execution_count": 74,
      "outputs": []
    },
    {
      "cell_type": "code",
      "source": [
        "for j in range(0, 313):\n",
        "    generate_caption(1, unq_valid_imgs.iloc[j]['image'])"
      ],
      "metadata": {
        "id": "nAW-2Uigp7C5"
      },
      "execution_count": null,
      "outputs": []
    },
    {
      "cell_type": "code",
      "source": [
        "for i in range(1, 10):\n",
        "  print(\"top \", i, \"\\n\")\n",
        "  generate_caption(i, unq_valid_imgs.iloc[2]['image'])  # i자리에 해당 캡션이 top 몇 번째인지의 숫자가 들어감\n",
        "  print(\"\\n\")"
      ],
      "metadata": {
        "colab": {
          "base_uri": "https://localhost:8080/",
          "height": 1000
        },
        "id": "tPOWE4tFk1WW",
        "outputId": "afd9d34c-0410-4ba6-badc-cbb3f07a4885"
      },
      "execution_count": 57,
      "outputs": [
        {
          "output_type": "stream",
          "name": "stdout",
          "text": [
            "top  1 \n",
            "\n",
            "Actual Caption : \n",
            "['In Sansudo there are nature of inanimate object and trees of plant .', 'This is a Sansudo which is the Painting of Mountains and Rivers .', 'The keyword of Sansudo is a mountain and a tree and a pine tree and a building and a person and a rock and a waterfall .', 'This is a Minhwa and it is the Korean folk paintings .', 'This painting is a Sansudo which is one of the Korean folk paintings .']\n",
            "\n",
            "\n",
            "Predicted caption : \n",
            "this is minhwa and it is the korean folk paintings .\n",
            "\n",
            "\n",
            "top  2 \n",
            "\n",
            "Actual Caption : \n",
            "['In Sansudo there are nature of inanimate object and trees of plant .', 'This is a Sansudo which is the Painting of Mountains and Rivers .', 'The keyword of Sansudo is a mountain and a tree and a pine tree and a building and a person and a rock and a waterfall .', 'This is a Minhwa and it is the Korean folk paintings .', 'This painting is a Sansudo which is one of the Korean folk paintings .']\n",
            "\n",
            "\n",
            "Predicted caption : \n",
            "this is minhwa and it is the korean animal .\n",
            "\n",
            "\n",
            "top  3 \n",
            "\n",
            "Actual Caption : \n",
            "['In Sansudo there are nature of inanimate object and trees of plant .', 'This is a Sansudo which is the Painting of Mountains and Rivers .', 'The keyword of Sansudo is a mountain and a tree and a pine tree and a building and a person and a rock and a waterfall .', 'This is a Minhwa and it is the Korean folk paintings .', 'This painting is a Sansudo which is one of the Korean folk paintings .']\n",
            "\n",
            "\n",
            "Predicted caption : \n",
            "this which is minhwa .\n",
            "\n",
            "\n",
            "top  4 \n",
            "\n",
            "Actual Caption : \n",
            "['In Sansudo there are nature of inanimate object and trees of plant .', 'This is a Sansudo which is the Painting of Mountains and Rivers .', 'The keyword of Sansudo is a mountain and a tree and a pine tree and a building and a person and a rock and a waterfall .', 'This is a Minhwa and it is the Korean folk paintings .', 'This painting is a Sansudo which is one of the Korean folk paintings .']\n",
            "\n",
            "\n",
            "Predicted caption : \n",
            "this which painting as is one of the documentary painting .\n",
            "\n",
            "\n",
            "top  5 \n",
            "\n",
            "Actual Caption : \n",
            "['In Sansudo there are nature of inanimate object and trees of plant .', 'This is a Sansudo which is the Painting of Mountains and Rivers .', 'The keyword of Sansudo is a mountain and a tree and a pine tree and a building and a person and a rock and a waterfall .', 'This is a Minhwa and it is the Korean folk paintings .', 'This painting is a Sansudo which is one of the Korean folk paintings .']\n",
            "\n",
            "\n",
            "Predicted caption : \n",
            "in hwajodo there pungsokdo which there and rocks and flowers and trees of plants and yun of plant .\n",
            "\n",
            "\n",
            "top  6 \n",
            "\n",
            "Actual Caption : \n",
            "['In Sansudo there are nature of inanimate object and trees of plant .', 'This is a Sansudo which is the Painting of Mountains and Rivers .', 'The keyword of Sansudo is a mountain and a tree and a pine tree and a building and a person and a rock and a waterfall .', 'This is a Minhwa and it is the Korean folk paintings .', 'This painting is a Sansudo which is one of the Korean folk paintings .']\n",
            "\n",
            "\n",
            "Predicted caption : \n",
            "this is inmuldo is person and confucius and korean of divine .\n",
            "\n",
            "\n",
            "top  7 \n",
            "\n",
            "Actual Caption : \n",
            "['In Sansudo there are nature of inanimate object and trees of plant .', 'This is a Sansudo which is the Painting of Mountains and Rivers .', 'The keyword of Sansudo is a mountain and a tree and a pine tree and a building and a person and a rock and a waterfall .', 'This is a Minhwa and it is the Korean folk paintings .', 'This painting is a Sansudo which is one of the Korean folk paintings .']\n",
            "\n",
            "\n",
            "Predicted caption : \n",
            "girokhwa one of the eight fairies object and the korean mammals .\n",
            "\n",
            "\n",
            "top  8 \n",
            "\n",
            "Actual Caption : \n",
            "['In Sansudo there are nature of inanimate object and trees of plant .', 'This is a Sansudo which is the Painting of Mountains and Rivers .', 'The keyword of Sansudo is a mountain and a tree and a pine tree and a building and a person and a rock and a waterfall .', 'This is a Minhwa and it is the Korean folk paintings .', 'This painting is a Sansudo which is one of the Korean folk paintings .']\n",
            "\n",
            "\n",
            "Predicted caption : \n",
            "painting person buddhist so .\n",
            "\n",
            "\n",
            "top  9 \n",
            "\n",
            "Actual Caption : \n",
            "['In Sansudo there are nature of inanimate object and trees of plant .', 'This is a Sansudo which is the Painting of Mountains and Rivers .', 'The keyword of Sansudo is a mountain and a tree and a pine tree and a building and a person and a rock and a waterfall .', 'This is a Minhwa and it is the Korean folk paintings .', 'This painting is a Sansudo which is one of the Korean folk paintings .']\n",
            "\n",
            "\n",
            "Predicted caption : \n",
            "minhwa is in eohaedo which is one and one yang plant paintings .\n",
            "\n",
            "\n"
          ]
        },
        {
          "output_type": "display_data",
          "data": {
            "text/plain": [
              "<Figure size 432x288 with 1 Axes>"
            ],
            "image/png": "[encoded data removed]"
          },
          "metadata": {
            "needs_background": "light"
          }
        }
      ]
    },
    {
      "cell_type": "code",
      "source": [
        "for i in range(1, 10):\n",
        "  print(\"top \", i, \"\\n\")\n",
        "  generate_caption(i, unq_valid_imgs.iloc[50]['image'])  # i자리에 해당 캡션이 top 몇 번째인지의 숫자가 들어감\n",
        "  print(\"\\n\")"
      ],
      "metadata": {
        "colab": {
          "base_uri": "https://localhost:8080/",
          "height": 1000
        },
        "id": "V801pR4ypjn7",
        "outputId": "4a39b15a-89e2-420f-c7cc-f7882d5a64ad"
      },
      "execution_count": 75,
      "outputs": [
        {
          "output_type": "stream",
          "name": "stdout",
          "text": [
            "top  1 \n",
            "\n",
            "Actual Caption : \n",
            "['The keyword of Sansudo is a mountain and a tree and a pine tree and a building and a person and a rock and a waterfall .', 'In Sansudo there are nature of inanimate object and trees of plant .', 'This is a Sansudo which is the Painting of Mountains and Rivers .', 'This painting is a Sansudo which is one of the Korean folk paintings .', 'This is a Minhwa and it is the Korean folk paintings .']\n",
            "\n",
            "\n",
            "Predicted caption : \n",
            "this is minhwa and it is the korean folk paintings .\n",
            "\n",
            "\n",
            "top  2 \n",
            "\n",
            "Actual Caption : \n",
            "['The keyword of Sansudo is a mountain and a tree and a pine tree and a building and a person and a rock and a waterfall .', 'In Sansudo there are nature of inanimate object and trees of plant .', 'This is a Sansudo which is the Painting of Mountains and Rivers .', 'This painting is a Sansudo which is one of the Korean folk paintings .', 'This is a Minhwa and it is the Korean folk paintings .']\n",
            "\n",
            "\n",
            "Predicted caption : \n",
            "the inmuldo is the keyword of legendary figures .\n",
            "\n",
            "\n",
            "top  3 \n",
            "\n",
            "Actual Caption : \n",
            "['The keyword of Sansudo is a mountain and a tree and a pine tree and a building and a person and a rock and a waterfall .', 'In Sansudo there are nature of inanimate object and trees of plant .', 'This is a Sansudo which is the Painting of Mountains and Rivers .', 'This painting is a Sansudo which is one of the Korean folk paintings .', 'This is a Minhwa and it is the Korean folk paintings .']\n",
            "\n",
            "\n",
            "Predicted caption : \n",
            "the inmuldo is the yang and the korean folk scene .\n",
            "\n",
            "\n",
            "top  4 \n",
            "\n",
            "Actual Caption : \n",
            "['The keyword of Sansudo is a mountain and a tree and a pine tree and a building and a person and a rock and a waterfall .', 'In Sansudo there are nature of inanimate object and trees of plant .', 'This is a Sansudo which is the Painting of Mountains and Rivers .', 'This painting is a Sansudo which is one of the Korean folk paintings .', 'This is a Minhwa and it is the Korean folk paintings .']\n",
            "\n",
            "\n",
            "Predicted caption : \n",
            "painting person .\n",
            "\n",
            "\n",
            "top  5 \n",
            "\n",
            "Actual Caption : \n",
            "['The keyword of Sansudo is a mountain and a tree and a pine tree and a building and a person and a rock and a waterfall .', 'In Sansudo there are nature of inanimate object and trees of plant .', 'This is a Sansudo which is the Painting of Mountains and Rivers .', 'This painting is a Sansudo which is one of the Korean folk paintings .', 'This is a Minhwa and it is the Korean folk paintings .']\n",
            "\n",
            "\n",
            "Predicted caption : \n",
            "this which painting painting as leisure is suryeopdo .\n",
            "\n",
            "\n",
            "top  6 \n",
            "\n",
            "Actual Caption : \n",
            "['The keyword of Sansudo is a mountain and a tree and a pine tree and a building and a person and a rock and a waterfall .', 'In Sansudo there are nature of inanimate object and trees of plant .', 'This is a Sansudo which is the Painting of Mountains and Rivers .', 'This painting is a Sansudo which is one of the Korean folk paintings .', 'This is a Minhwa and it is the Korean folk paintings .']\n",
            "\n",
            "\n",
            "Predicted caption : \n",
            "girokhwa it carp which is carp is the korean and mountain paintings .\n",
            "\n",
            "\n",
            "top  7 \n",
            "\n",
            "Actual Caption : \n",
            "['The keyword of Sansudo is a mountain and a tree and a pine tree and a building and a person and a rock and a waterfall .', 'In Sansudo there are nature of inanimate object and trees of plant .', 'This is a Sansudo which is the Painting of Mountains and Rivers .', 'This painting is a Sansudo which is one of the Korean folk paintings .', 'This is a Minhwa and it is the Korean folk paintings .']\n",
            "\n",
            "\n",
            "Predicted caption : \n",
            "this painting hwajodo so yu is suryeopdo and it is one of divine animals of the genre flower and mountain mountain mountain spirit and the younggimun .\n",
            "\n",
            "\n",
            "top  8 \n",
            "\n",
            "Actual Caption : \n",
            "['The keyword of Sansudo is a mountain and a tree and a pine tree and a building and a person and a rock and a waterfall .', 'In Sansudo there are nature of inanimate object and trees of plant .', 'This is a Sansudo which is the Painting of Mountains and Rivers .', 'This painting is a Sansudo which is one of the Korean folk paintings .', 'This is a Minhwa and it is the Korean folk paintings .']\n",
            "\n",
            "\n",
            "Predicted caption : \n",
            "minhwa it pip figures .\n",
            "\n",
            "\n",
            "top  9 \n",
            "\n",
            "Actual Caption : \n",
            "['The keyword of Sansudo is a mountain and a tree and a pine tree and a building and a person and a rock and a waterfall .', 'In Sansudo there are nature of inanimate object and trees of plant .', 'This is a Sansudo which is the Painting of Mountains and Rivers .', 'This painting is a Sansudo which is one of the Korean folk paintings .', 'This is a Minhwa and it is the Korean folk paintings .']\n",
            "\n",
            "\n",
            "Predicted caption : \n",
            "painting as of buddhist masters is korean animal spirit .\n",
            "\n",
            "\n"
          ]
        },
        {
          "output_type": "display_data",
          "data": {
            "text/plain": [
              "<Figure size 432x288 with 1 Axes>"
            ],
            "image/png": "[encoded data removed]"
          },
          "metadata": {
            "needs_background": "light"
          }
        }
      ]
    },
    {
      "cell_type": "code",
      "source": [
        "for i in range(1, 10):\n",
        "  print(\"top \", i, \"\\n\")\n",
        "  generate_caption(i, unq_valid_imgs.iloc[100]['image'])  # i자리에 해당 캡션이 top 몇 번째인지의 숫자가 들어감\n",
        "  print(\"\\n\")"
      ],
      "metadata": {
        "colab": {
          "base_uri": "https://localhost:8080/",
          "height": 1000
        },
        "id": "BzX3fliIpjvd",
        "outputId": "9cb94770-c549-4431-e536-f93632cfe431"
      },
      "execution_count": 76,
      "outputs": [
        {
          "output_type": "stream",
          "name": "stdout",
          "text": [
            "top  1 \n",
            "\n",
            "Actual Caption : \n",
            "['This is a Minhwa and it is the Korean folk paintings .', 'This painting is a Morando which is one of the Korean folk paintings .', 'This is a Morando which is the Painting of Peony .', 'In Morando there are flowers of plant and things of culture and rocks of inanimate object .', 'The keyword of Morando is a peony and an oddly shaped stone and a rock and a vase and a plant pot .']\n",
            "\n",
            "\n",
            "Predicted caption : \n",
            "this is minhwa and it is the korean folk paintings .\n",
            "\n",
            "\n",
            "top  2 \n",
            "\n",
            "Actual Caption : \n",
            "['This is a Minhwa and it is the Korean folk paintings .', 'This painting is a Morando which is one of the Korean folk paintings .', 'This is a Morando which is the Painting of Peony .', 'In Morando there are flowers of plant and things of culture and rocks of inanimate object .', 'The keyword of Morando is a peony and an oddly shaped stone and a rock and a vase and a plant pot .']\n",
            "\n",
            "\n",
            "Predicted caption : \n",
            "the keyword of doseokjwa of hwajodo is pheasant and peony and an oddly shaped stone and an oriental phoenix loyalty .\n",
            "\n",
            "\n",
            "top  3 \n",
            "\n",
            "Actual Caption : \n",
            "['This is a Minhwa and it is the Korean folk paintings .', 'This painting is a Morando which is one of the Korean folk paintings .', 'This is a Morando which is the Painting of Peony .', 'In Morando there are flowers of plant and things of culture and rocks of inanimate object .', 'The keyword of Morando is a peony and an oddly shaped stone and a rock and a vase and a plant pot .']\n",
            "\n",
            "\n",
            "Predicted caption : \n",
            "in doseokhwa of culture and there imaginary animal and nature animal of inanimate object and trees of buddhist and taoist and taoist masters plant .\n",
            "\n",
            "\n",
            "top  4 \n",
            "\n",
            "Actual Caption : \n",
            "['This is a Minhwa and it is the Korean folk paintings .', 'This painting is a Morando which is one of the Korean folk paintings .', 'This is a Morando which is the Painting of Peony .', 'In Morando there are flowers of plant and things of culture and rocks of inanimate object .', 'The keyword of Morando is a peony and an oddly shaped stone and a rock and a vase and a plant pot .']\n",
            "\n",
            "\n",
            "Predicted caption : \n",
            "in doseokhwa are imaginary animal of culture and imaginary plant and sky of inanimate plant and person and fishes of plant and and person .\n",
            "\n",
            "\n",
            "top  5 \n",
            "\n",
            "Actual Caption : \n",
            "['This is a Minhwa and it is the Korean folk paintings .', 'This painting is a Morando which is one of the Korean folk paintings .', 'This is a Morando which is the Painting of Peony .', 'In Morando there are flowers of plant and things of culture and rocks of inanimate object .', 'The keyword of Morando is a peony and an oddly shaped stone and a rock and a vase and a plant pot .']\n",
            "\n",
            "\n",
            "Predicted caption : \n",
            "this documentary is doseokhwa which carp which is dragon folding .\n",
            "\n",
            "\n",
            "top  6 \n",
            "\n",
            "Actual Caption : \n",
            "['This is a Minhwa and it is the Korean folk paintings .', 'This painting is a Morando which is one of the Korean folk paintings .', 'This is a Morando which is the Painting of Peony .', 'In Morando there are flowers of plant and things of culture and rocks of inanimate object .', 'The keyword of Morando is a peony and an oddly shaped stone and a rock and a vase and a plant pot .']\n",
            "\n",
            "\n",
            "Predicted caption : \n",
            "painting person buddhist books folk of plant and and stationery zhuge .\n",
            "\n",
            "\n",
            "top  7 \n",
            "\n",
            "Actual Caption : \n",
            "['This is a Minhwa and it is the Korean folk paintings .', 'This painting is a Morando which is one of the Korean folk paintings .', 'This is a Morando which is the Painting of Peony .', 'In Morando there are flowers of plant and things of culture and rocks of inanimate object .', 'The keyword of Morando is a peony and an oddly shaped stone and a rock and a vase and a plant pot .']\n",
            "\n",
            "\n",
            "Predicted caption : \n",
            "in chochungdo there custom of culture butterfly culture butterfly peach loyalty and the zhou plants and rocks phoenix .\n",
            "\n",
            "\n",
            "top  8 \n",
            "\n",
            "Actual Caption : \n",
            "['This is a Minhwa and it is the Korean folk paintings .', 'This painting is a Morando which is one of the Korean folk paintings .', 'This is a Morando which is the Painting of Peony .', 'In Morando there are flowers of plant and things of culture and rocks of inanimate object .', 'The keyword of Morando is a peony and an oddly shaped stone and a rock and a vase and a plant pot .']\n",
            "\n",
            "\n",
            "Predicted caption : \n",
            "painting hwajodo there and rocks of buddhist imaginary and korean folk paintings .\n",
            "\n",
            "\n",
            "top  9 \n",
            "\n",
            "Actual Caption : \n",
            "['This is a Minhwa and it is the Korean folk paintings .', 'This painting is a Morando which is one of the Korean folk paintings .', 'This is a Morando which is the Painting of Peony .', 'In Morando there are flowers of plant and things of culture and rocks of inanimate object .', 'The keyword of Morando is a peony and an oddly shaped stone and a rock and a vase and a plant pot .']\n",
            "\n",
            "\n",
            "Predicted caption : \n",
            "in inmuldo thre are imaginary deer things and imaginary the younggimun and stationery zhou and imaginary animal and rocks and bush cricket of plant and person and lotus .\n",
            "\n",
            "\n"
          ]
        },
        {
          "output_type": "display_data",
          "data": {
            "text/plain": [
              "<Figure size 432x288 with 1 Axes>"
            ],
            "image/png": "[encoded data removed]"
          },
          "metadata": {
            "needs_background": "light"
          }
        }
      ]
    },
    {
      "cell_type": "code",
      "source": [
        "for i in range(1, 10):\n",
        "  print(\"top \", i, \"\\n\")\n",
        "  generate_caption(i, unq_valid_imgs.iloc[150]['image'])  # i자리에 해당 캡션이 top 몇 번째인지의 숫자가 들어감\n",
        "  print(\"\\n\")"
      ],
      "metadata": {
        "colab": {
          "base_uri": "https://localhost:8080/",
          "height": 1000
        },
        "id": "pQTImoQzpj1c",
        "outputId": "c0364049-6745-4b8f-b4f8-5c2ad9b8e45a"
      },
      "execution_count": 77,
      "outputs": [
        {
          "output_type": "stream",
          "name": "stdout",
          "text": [
            "top  1 \n",
            "\n",
            "Actual Caption : \n",
            "['The keyword of Morando is a peony and an oddly shaped stone and a rock and a vase and a plant pot .', 'This is a Minhwa and it is the Korean folk paintings .', 'This is a Morando which is the Painting of Peony .', 'This painting is a Morando which is one of the Korean folk paintings .', 'In Morando there are flowers of plant and things of culture and rocks of inanimate object .']\n",
            "\n",
            "\n",
            "Predicted caption : \n",
            "this is minhwa and it is the korean folk paintings .\n",
            "\n",
            "\n",
            "top  2 \n",
            "\n",
            "Actual Caption : \n",
            "['The keyword of Morando is a peony and an oddly shaped stone and a rock and a vase and a plant pot .', 'This is a Minhwa and it is the Korean folk paintings .', 'This is a Morando which is the Painting of Peony .', 'This painting is a Morando which is one of the Korean folk paintings .', 'In Morando there are flowers of plant and things of culture and rocks of inanimate object .']\n",
            "\n",
            "\n",
            "Predicted caption : \n",
            "the keyword of hwajodo is tiger and deer and wild boar and leopard and person .\n",
            "\n",
            "\n",
            "top  3 \n",
            "\n",
            "Actual Caption : \n",
            "['The keyword of Morando is a peony and an oddly shaped stone and a rock and a vase and a plant pot .', 'This is a Minhwa and it is the Korean folk paintings .', 'This is a Morando which is the Painting of Peony .', 'This painting is a Morando which is one of the Korean folk paintings .', 'In Morando there are flowers of plant and things of culture and rocks of inanimate object .']\n",
            "\n",
            "\n",
            "Predicted caption : \n",
            "the yang is the keyword of animal and sky of flowers and rocks horse .\n",
            "\n",
            "\n",
            "top  4 \n",
            "\n",
            "Actual Caption : \n",
            "['The keyword of Morando is a peony and an oddly shaped stone and a rock and a vase and a plant pot .', 'This is a Minhwa and it is the Korean folk paintings .', 'This is a Morando which is the Painting of Peony .', 'This painting is a Morando which is one of the Korean folk paintings .', 'In Morando there are flowers of plant and things of culture and rocks of inanimate object .']\n",
            "\n",
            "\n",
            "Predicted caption : \n",
            "in hwajodo tiger and there wild deer of animal of flowers custom and rocks of plants and trees of inanimate .\n",
            "\n",
            "\n",
            "top  5 \n",
            "\n",
            "Actual Caption : \n",
            "['The keyword of Morando is a peony and an oddly shaped stone and a rock and a vase and a plant pot .', 'This is a Minhwa and it is the Korean folk paintings .', 'This is a Morando which is the Painting of Peony .', 'This painting is a Morando which is one of the Korean folk paintings .', 'In Morando there are flowers of plant and things of culture and rocks of inanimate object .']\n",
            "\n",
            "\n",
            "Predicted caption : \n",
            "the minhwa and it korean of the integrity and dragon cloud and yeouiju and pine brotherly .\n",
            "\n",
            "\n",
            "top  6 \n",
            "\n",
            "Actual Caption : \n",
            "['The keyword of Morando is a peony and an oddly shaped stone and a rock and a vase and a plant pot .', 'This is a Minhwa and it is the Korean folk paintings .', 'This is a Morando which is the Painting of Peony .', 'This painting is a Morando which is one of the Korean folk paintings .', 'In Morando there are flowers of plant and things of culture and rocks of inanimate object .']\n",
            "\n",
            "\n",
            "Predicted caption : \n",
            "painting of buddhist and insects of taoist and vegetables of fish .\n",
            "\n",
            "\n",
            "top  7 \n",
            "\n",
            "Actual Caption : \n",
            "['The keyword of Morando is a peony and an oddly shaped stone and a rock and a vase and a plant pot .', 'This is a Minhwa and it is the Korean folk paintings .', 'This is a Morando which is the Painting of Peony .', 'This painting is a Morando which is one of the Korean folk paintings .', 'In Morando there are flowers of plant and things of culture and rocks of inanimate object .']\n",
            "\n",
            "\n",
            "Predicted caption : \n",
            "painting buddhist buddhist is one of fish .\n",
            "\n",
            "\n",
            "top  8 \n",
            "\n",
            "Actual Caption : \n",
            "['The keyword of Morando is a peony and an oddly shaped stone and a rock and a vase and a plant pot .', 'This is a Minhwa and it is the Korean folk paintings .', 'This is a Morando which is the Painting of Peony .', 'This painting is a Morando which is one of the Korean folk paintings .', 'In Morando there are flowers of plant and things of culture and rocks of inanimate object .']\n",
            "\n",
            "\n",
            "Predicted caption : \n",
            "in doseokhwa of culture there there are imaginary animal animal .\n",
            "\n",
            "\n",
            "top  9 \n",
            "\n",
            "Actual Caption : \n",
            "['The keyword of Morando is a peony and an oddly shaped stone and a rock and a vase and a plant pot .', 'This is a Minhwa and it is the Korean folk paintings .', 'This is a Morando which is the Painting of Peony .', 'This painting is a Morando which is one of the Korean folk paintings .', 'In Morando there are flowers of plant and things of culture and rocks of inanimate object .']\n",
            "\n",
            "\n",
            "Predicted caption : \n",
            "of buddhist masters .\n",
            "\n",
            "\n"
          ]
        },
        {
          "output_type": "display_data",
          "data": {
            "text/plain": [
              "<Figure size 432x288 with 1 Axes>"
            ],
            "image/png": "[encoded data removed]"
          },
          "metadata": {
            "needs_background": "light"
          }
        }
      ]
    },
    {
      "cell_type": "code",
      "source": [
        "for i in range(1, 10):\n",
        "  print(\"top \", i, \"\\n\")\n",
        "  generate_caption(i, unq_valid_imgs.iloc[200]['image'])  # i자리에 해당 캡션이 top 몇 번째인지의 숫자가 들어감\n",
        "  print(\"\\n\")"
      ],
      "metadata": {
        "colab": {
          "base_uri": "https://localhost:8080/",
          "height": 1000
        },
        "id": "lDj1chUhpj66",
        "outputId": "64f1da4d-938f-48b0-8447-e321d74442d0"
      },
      "execution_count": 78,
      "outputs": [
        {
          "output_type": "stream",
          "name": "stdout",
          "text": [
            "top  1 \n",
            "\n",
            "Actual Caption : \n",
            "['The keyword of Hojakdo is a tiger and a magpie and a pine tree and an oddly shaped stone .', 'This is a Hojakdo which is the Painting of Tiger and Magpie and Pine Tree .', 'This is a Minhwa and it is the Korean folk paintings .', 'This painting is a Hojakdo which is one of the Korean folk paintings .', 'In Hojakdo there are mammals and birds of animals and trees of plants and rocks of inanimate objects .']\n",
            "\n",
            "\n",
            "Predicted caption : \n",
            "this is minhwa and it is the korean folk paintings .\n",
            "\n",
            "\n",
            "top  2 \n",
            "\n",
            "Actual Caption : \n",
            "['The keyword of Hojakdo is a tiger and a magpie and a pine tree and an oddly shaped stone .', 'This is a Hojakdo which is the Painting of Tiger and Magpie and Pine Tree .', 'This is a Minhwa and it is the Korean folk paintings .', 'This painting is a Hojakdo which is one of the Korean folk paintings .', 'In Hojakdo there are mammals and birds of animals and trees of plants and rocks of inanimate objects .']\n",
            "\n",
            "\n",
            "Predicted caption : \n",
            "the keyword sansudo is mountain spirit and the younggimun tree of plant .\n",
            "\n",
            "\n",
            "top  3 \n",
            "\n",
            "Actual Caption : \n",
            "['The keyword of Hojakdo is a tiger and a magpie and a pine tree and an oddly shaped stone .', 'This is a Hojakdo which is the Painting of Tiger and Magpie and Pine Tree .', 'This is a Minhwa and it is the Korean folk paintings .', 'This painting is a Hojakdo which is one of the Korean folk paintings .', 'In Hojakdo there are mammals and birds of animals and trees of plants and rocks of inanimate objects .']\n",
            "\n",
            "\n",
            "Predicted caption : \n",
            "in munjado which is letter of culture .\n",
            "\n",
            "\n",
            "top  4 \n",
            "\n",
            "Actual Caption : \n",
            "['The keyword of Hojakdo is a tiger and a magpie and a pine tree and an oddly shaped stone .', 'This is a Hojakdo which is the Painting of Tiger and Magpie and Pine Tree .', 'This is a Minhwa and it is the Korean folk paintings .', 'This painting is a Hojakdo which is one of the Korean folk paintings .', 'In Hojakdo there are mammals and birds of animals and trees of plants and rocks of inanimate objects .']\n",
            "\n",
            "\n",
            "Predicted caption : \n",
            "this painting of is eohaedo korean folk paintings korean folk paintings korean folk paintings .\n",
            "\n",
            "\n",
            "top  5 \n",
            "\n",
            "Actual Caption : \n",
            "['The keyword of Hojakdo is a tiger and a magpie and a pine tree and an oddly shaped stone .', 'This is a Hojakdo which is the Painting of Tiger and Magpie and Pine Tree .', 'This is a Minhwa and it is the Korean folk paintings .', 'This painting is a Hojakdo which is one of the Korean folk paintings .', 'In Hojakdo there are mammals and birds of animals and trees of plants and rocks of inanimate objects .']\n",
            "\n",
            "\n",
            "Predicted caption : \n",
            "minhwa is one of the propriety the korean and birds of the eight .\n",
            "\n",
            "\n",
            "top  6 \n",
            "\n",
            "Actual Caption : \n",
            "['The keyword of Hojakdo is a tiger and a magpie and a pine tree and an oddly shaped stone .', 'This is a Hojakdo which is the Painting of Tiger and Magpie and Pine Tree .', 'This is a Minhwa and it is the Korean folk paintings .', 'This painting is a Hojakdo which is one of the Korean folk paintings .', 'In Hojakdo there are mammals and birds of animals and trees of plants and rocks of inanimate objects .']\n",
            "\n",
            "\n",
            "Predicted caption : \n",
            "in eohaedo there are imaginary animals fishes animal and nature and trees plant and fishes .\n",
            "\n",
            "\n",
            "top  7 \n",
            "\n",
            "Actual Caption : \n",
            "['The keyword of Hojakdo is a tiger and a magpie and a pine tree and an oddly shaped stone .', 'This is a Hojakdo which is the Painting of Tiger and Magpie and Pine Tree .', 'This is a Minhwa and it is the Korean folk paintings .', 'This painting is a Hojakdo which is one of the Korean folk paintings .', 'In Hojakdo there are mammals and birds of animals and trees of plants and rocks of inanimate objects .']\n",
            "\n",
            "\n",
            "Predicted caption : \n",
            "in sogwado sansudo are nature yeogihwa of eohaedo and clam and an egret and birds yuja fish .\n",
            "\n",
            "\n",
            "top  8 \n",
            "\n",
            "Actual Caption : \n",
            "['The keyword of Hojakdo is a tiger and a magpie and a pine tree and an oddly shaped stone .', 'This is a Hojakdo which is the Painting of Tiger and Magpie and Pine Tree .', 'This is a Minhwa and it is the Korean folk paintings .', 'This painting is a Hojakdo which is one of the Korean folk paintings .', 'In Hojakdo there are mammals and birds of animals and trees of plants and rocks of inanimate objects .']\n",
            "\n",
            "\n",
            "Predicted caption : \n",
            "girokhwa .\n",
            "\n",
            "\n",
            "top  9 \n",
            "\n",
            "Actual Caption : \n",
            "['The keyword of Hojakdo is a tiger and a magpie and a pine tree and an oddly shaped stone .', 'This is a Hojakdo which is the Painting of Tiger and Magpie and Pine Tree .', 'This is a Minhwa and it is the Korean folk paintings .', 'This painting is a Hojakdo which is one of the Korean folk paintings .', 'In Hojakdo there are mammals and birds of animals and trees of plants and rocks of inanimate objects .']\n",
            "\n",
            "\n",
            "Predicted caption : \n",
            "unryongdo the minhwa it of animal keyword is shrine in and an oddly phoenix yuja and flower .\n",
            "\n",
            "\n"
          ]
        },
        {
          "output_type": "display_data",
          "data": {
            "text/plain": [
              "<Figure size 432x288 with 1 Axes>"
            ],
            "image/png": "[encoded data removed]"
          },
          "metadata": {
            "needs_background": "light"
          }
        }
      ]
    },
    {
      "cell_type": "code",
      "source": [
        "for i in range(1, 10):\n",
        "  print(\"top \", i, \"\\n\")\n",
        "  generate_caption(i, unq_valid_imgs.iloc[250]['image'])  # i자리에 해당 캡션이 top 몇 번째인지의 숫자가 들어감\n",
        "  print(\"\\n\")"
      ],
      "metadata": {
        "colab": {
          "base_uri": "https://localhost:8080/",
          "height": 1000
        },
        "id": "4YQ1KYBvpkAY",
        "outputId": "059b8115-c40b-4aec-e462-10bf282be752"
      },
      "execution_count": 79,
      "outputs": [
        {
          "output_type": "stream",
          "name": "stdout",
          "text": [
            "top  1 \n",
            "\n",
            "Actual Caption : \n",
            "['The keyword of Hojakdo is a tiger and a magpie and a pine tree and an oddly shaped stone .', 'In Hojakdo there are mammals and birds of animals and trees of plants and rocks of inanimate objects .', 'This painting is a Hojakdo which is one of the Korean folk paintings .', 'This is a Minhwa and it is the Korean folk paintings .', 'This is a Hojakdo which is the Painting of Tiger and Magpie and Pine Tree .']\n",
            "\n",
            "\n",
            "Predicted caption : \n",
            "this is minhwa and it is the korean folk paintings .\n",
            "\n",
            "\n",
            "top  2 \n",
            "\n",
            "Actual Caption : \n",
            "['The keyword of Hojakdo is a tiger and a magpie and a pine tree and an oddly shaped stone .', 'In Hojakdo there are mammals and birds of animals and trees of plants and rocks of inanimate objects .', 'This painting is a Hojakdo which is one of the Korean folk paintings .', 'This is a Minhwa and it is the Korean folk paintings .', 'This is a Hojakdo which is the Painting of Tiger and Magpie and Pine Tree .']\n",
            "\n",
            "\n",
            "Predicted caption : \n",
            "in yeongsudo imaginary there imaginary animals animal of animal and flowers and flowers and trees of plant and trees .\n",
            "\n",
            "\n",
            "top  3 \n",
            "\n",
            "Actual Caption : \n",
            "['The keyword of Hojakdo is a tiger and a magpie and a pine tree and an oddly shaped stone .', 'In Hojakdo there are mammals and birds of animals and trees of plants and rocks of inanimate objects .', 'This painting is a Hojakdo which is one of the Korean folk paintings .', 'This is a Minhwa and it is the Korean folk paintings .', 'This is a Hojakdo which is the Painting of Tiger and Magpie and Pine Tree .']\n",
            "\n",
            "\n",
            "Predicted caption : \n",
            "in yeongsudo yeongsudo there are imaginary animal animals .\n",
            "\n",
            "\n",
            "top  4 \n",
            "\n",
            "Actual Caption : \n",
            "['The keyword of Hojakdo is a tiger and a magpie and a pine tree and an oddly shaped stone .', 'In Hojakdo there are mammals and birds of animals and trees of plants and rocks of inanimate objects .', 'This painting is a Hojakdo which is one of the Korean folk paintings .', 'This is a Minhwa and it is the Korean folk paintings .', 'This is a Hojakdo which is the Painting of Tiger and Magpie and Pine Tree .']\n",
            "\n",
            "\n",
            "Predicted caption : \n",
            "in unryongdo are imaginary animal and trees of plant .\n",
            "\n",
            "\n",
            "top  5 \n",
            "\n",
            "Actual Caption : \n",
            "['The keyword of Hojakdo is a tiger and a magpie and a pine tree and an oddly shaped stone .', 'In Hojakdo there are mammals and birds of animals and trees of plants and rocks of inanimate objects .', 'This painting is a Hojakdo which is one of the Korean folk paintings .', 'This is a Minhwa and it is the Korean folk paintings .', 'This is a Hojakdo which is the Painting of Tiger and Magpie and Pine Tree .']\n",
            "\n",
            "\n",
            "Predicted caption : \n",
            "in yeonhwado yeongsudo lotus flowers of birds and flowers fishes .\n",
            "\n",
            "\n",
            "top  6 \n",
            "\n",
            "Actual Caption : \n",
            "['The keyword of Hojakdo is a tiger and a magpie and a pine tree and an oddly shaped stone .', 'In Hojakdo there are mammals and birds of animals and trees of plants and rocks of inanimate objects .', 'This painting is a Hojakdo which is one of the Korean folk paintings .', 'This is a Minhwa and it is the Korean folk paintings .', 'This is a Hojakdo which is the Painting of Tiger and Magpie and Pine Tree .']\n",
            "\n",
            "\n",
            "Predicted caption : \n",
            "minhwa and the keyword sansudo bush person and an lotus and an oriental an egret .\n",
            "\n",
            "\n",
            "top  7 \n",
            "\n",
            "Actual Caption : \n",
            "['The keyword of Hojakdo is a tiger and a magpie and a pine tree and an oddly shaped stone .', 'In Hojakdo there are mammals and birds of animals and trees of plants and rocks of inanimate objects .', 'This painting is a Hojakdo which is one of the Korean folk paintings .', 'This is a Minhwa and it is the Korean folk paintings .', 'This is a Hojakdo which is the Painting of Tiger and Magpie and Pine Tree .']\n",
            "\n",
            "\n",
            "Predicted caption : \n",
            "the yeongsudo minhwa and an oddly painting person and stationery .\n",
            "\n",
            "\n",
            "top  8 \n",
            "\n",
            "Actual Caption : \n",
            "['The keyword of Hojakdo is a tiger and a magpie and a pine tree and an oddly shaped stone .', 'In Hojakdo there are mammals and birds of animals and trees of plants and rocks of inanimate objects .', 'This painting is a Hojakdo which is one of the Korean folk paintings .', 'This is a Minhwa and it is the Korean folk paintings .', 'This is a Hojakdo which is the Painting of Tiger and Magpie and Pine Tree .']\n",
            "\n",
            "\n",
            "Predicted caption : \n",
            "the yeonhwado which mantis and fish animals mantis lotus shaped of inanimate object lotus an elixir kingfisher and mallard is the righteousness of lotus .\n",
            "\n",
            "\n",
            "top  9 \n",
            "\n",
            "Actual Caption : \n",
            "['The keyword of Hojakdo is a tiger and a magpie and a pine tree and an oddly shaped stone .', 'In Hojakdo there are mammals and birds of animals and trees of plants and rocks of inanimate objects .', 'This painting is a Hojakdo which is one of the Korean folk paintings .', 'This is a Minhwa and it is the Korean folk paintings .', 'This is a Hojakdo which is the Painting of Tiger and Magpie and Pine Tree .']\n",
            "\n",
            "\n",
            "Predicted caption : \n",
            "this which is the bulgasal and an oriental dragon and chicken and yeouiju mortar peach .\n",
            "\n",
            "\n"
          ]
        },
        {
          "output_type": "display_data",
          "data": {
            "text/plain": [
              "<Figure size 432x288 with 1 Axes>"
            ],
            "image/png": "[encoded data removed]"
          },
          "metadata": {
            "needs_background": "light"
          }
        }
      ]
    },
    {
      "cell_type": "code",
      "source": [
        "for i in range(1, 10):\n",
        "  print(\"top \", i, \"\\n\")\n",
        "  generate_caption(i, unq_valid_imgs.iloc[300]['image'])  # i자리에 해당 캡션이 top 몇 번째인지의 숫자가 들어감\n",
        "  print(\"\\n\")"
      ],
      "metadata": {
        "colab": {
          "base_uri": "https://localhost:8080/",
          "height": 1000
        },
        "id": "ot_Q5EUGpo4J",
        "outputId": "63b12202-9ee0-4a77-d66e-91ca0095eec5"
      },
      "execution_count": 80,
      "outputs": [
        {
          "output_type": "stream",
          "name": "stdout",
          "text": [
            "top  1 \n",
            "\n",
            "Actual Caption : \n",
            "['In Sipjangsaengdo there are birds and mammals and reptiles of animal and trees of plant and sky of inanimate object .', 'This is a Sipjangsaengdo which is the Painting of Ten Symbols of Longevity .', 'The keyword of Sipjangsaengdo is a crane and a deer and a pine tree and a bamboo and a turtle and an eixir plant and a cloud .', 'This is a Minhwa and it is the Korean folk paintings .', 'This painting is a Sipjangsaengdo which is one of the Korean folk paintings .']\n",
            "\n",
            "\n",
            "Predicted caption : \n",
            "this is minhwa and it is the korean folk paintings .\n",
            "\n",
            "\n",
            "top  2 \n",
            "\n",
            "Actual Caption : \n",
            "['In Sipjangsaengdo there are birds and mammals and reptiles of animal and trees of plant and sky of inanimate object .', 'This is a Sipjangsaengdo which is the Painting of Ten Symbols of Longevity .', 'The keyword of Sipjangsaengdo is a crane and a deer and a pine tree and a bamboo and a turtle and an eixir plant and a cloud .', 'This is a Minhwa and it is the Korean folk paintings .', 'This painting is a Sipjangsaengdo which is one of the Korean folk paintings .']\n",
            "\n",
            "\n",
            "Predicted caption : \n",
            "the keyword of hwajodo is pheasant and an oddly shaped stone and mandarin duck and bush cricket and lotus .\n",
            "\n",
            "\n",
            "top  3 \n",
            "\n",
            "Actual Caption : \n",
            "['In Sipjangsaengdo there are birds and mammals and reptiles of animal and trees of plant and sky of inanimate object .', 'This is a Sipjangsaengdo which is the Painting of Ten Symbols of Longevity .', 'The keyword of Sipjangsaengdo is a crane and a deer and a pine tree and a bamboo and a turtle and an eixir plant and a cloud .', 'This is a Minhwa and it is the Korean folk paintings .', 'This painting is a Sipjangsaengdo which is one of the Korean folk paintings .']\n",
            "\n",
            "\n",
            "Predicted caption : \n",
            "this is minhwa and it is one of the korean folk paintings .\n",
            "\n",
            "\n",
            "top  4 \n",
            "\n",
            "Actual Caption : \n",
            "['In Sipjangsaengdo there are birds and mammals and reptiles of animal and trees of plant and sky of inanimate object .', 'This is a Sipjangsaengdo which is the Painting of Ten Symbols of Longevity .', 'The keyword of Sipjangsaengdo is a crane and a deer and a pine tree and a bamboo and a turtle and an eixir plant and a cloud .', 'This is a Minhwa and it is the Korean folk paintings .', 'This painting is a Sipjangsaengdo which is one of the Korean folk paintings .']\n",
            "\n",
            "\n",
            "Predicted caption : \n",
            "the minhwa is doseokhwa and animal and animal of animal of plant .\n",
            "\n",
            "\n",
            "top  5 \n",
            "\n",
            "Actual Caption : \n",
            "['In Sipjangsaengdo there are birds and mammals and reptiles of animal and trees of plant and sky of inanimate object .', 'This is a Sipjangsaengdo which is the Painting of Ten Symbols of Longevity .', 'The keyword of Sipjangsaengdo is a crane and a deer and a pine tree and a bamboo and a turtle and an eixir plant and a cloud .', 'This is a Minhwa and it is the Korean folk paintings .', 'This painting is a Sipjangsaengdo which is one of the Korean folk paintings .']\n",
            "\n",
            "\n",
            "Predicted caption : \n",
            "the keyword of inmuldo is mountain and confucius of plant .\n",
            "\n",
            "\n",
            "top  6 \n",
            "\n",
            "Actual Caption : \n",
            "['In Sipjangsaengdo there are birds and mammals and reptiles of animal and trees of plant and sky of inanimate object .', 'This is a Sipjangsaengdo which is the Painting of Ten Symbols of Longevity .', 'The keyword of Sipjangsaengdo is a crane and a deer and a pine tree and a bamboo and a turtle and an eixir plant and a cloud .', 'This is a Minhwa and it is the Korean folk paintings .', 'This painting is a Sipjangsaengdo which is one of the Korean folk paintings .']\n",
            "\n",
            "\n",
            "Predicted caption : \n",
            "girokhwa mountain .\n",
            "\n",
            "\n",
            "top  7 \n",
            "\n",
            "Actual Caption : \n",
            "['In Sipjangsaengdo there are birds and mammals and reptiles of animal and trees of plant and sky of inanimate object .', 'This is a Sipjangsaengdo which is the Painting of Ten Symbols of Longevity .', 'The keyword of Sipjangsaengdo is a crane and a deer and a pine tree and a bamboo and a turtle and an eixir plant and a cloud .', 'This is a Minhwa and it is the Korean folk paintings .', 'This painting is a Sipjangsaengdo which is one of the Korean folk paintings .']\n",
            "\n",
            "\n",
            "Predicted caption : \n",
            "in doseokhwa thre hwajodo are flowers and trees fishes integrity .\n",
            "\n",
            "\n",
            "top  8 \n",
            "\n",
            "Actual Caption : \n",
            "['In Sipjangsaengdo there are birds and mammals and reptiles of animal and trees of plant and sky of inanimate object .', 'This is a Sipjangsaengdo which is the Painting of Ten Symbols of Longevity .', 'The keyword of Sipjangsaengdo is a crane and a deer and a pine tree and a bamboo and a turtle and an eixir plant and a cloud .', 'This is a Minhwa and it is the Korean folk paintings .', 'This painting is a Sipjangsaengdo which is one of the Korean folk paintings .']\n",
            "\n",
            "\n",
            "Predicted caption : \n",
            "this documentary which is one girokhwa .\n",
            "\n",
            "\n",
            "top  9 \n",
            "\n",
            "Actual Caption : \n",
            "['In Sipjangsaengdo there are birds and mammals and reptiles of animal and trees of plant and sky of inanimate object .', 'This is a Sipjangsaengdo which is the Painting of Ten Symbols of Longevity .', 'The keyword of Sipjangsaengdo is a crane and a deer and a pine tree and a bamboo and a turtle and an eixir plant and a cloud .', 'This is a Minhwa and it is the Korean folk paintings .', 'This painting is a Sipjangsaengdo which is one of the Korean folk paintings .']\n",
            "\n",
            "\n",
            "Predicted caption : \n",
            "this is minhwa and it is korean folk paintings <pad> the sensibility .\n",
            "\n",
            "\n"
          ]
        },
        {
          "output_type": "display_data",
          "data": {
            "text/plain": [
              "<Figure size 432x288 with 1 Axes>"
            ],
            "image/png": "[encoded data removed]"
          },
          "metadata": {
            "needs_background": "light"
          }
        }
      ]
    }
  ],
  "metadata": {
    "accelerator": "GPU",
    "colab": {
      "collapsed_sections": [],
      "name": "0321_Folk_training_Resnet+TransformerDecoder.ipynb",
      "provenance": [],
      "include_colab_link": true
    },
    "kernelspec": {
      "display_name": "Python 3",
      "name": "python3"
    },
    "language_info": {
      "name": "python"
    },
    "widgets": {
      "application/vnd.jupyter.widget-state+json": {
        "2da812a4fdf942f08ca602d3d8824f6b": {
          "model_module": "@jupyter-widgets/controls",
          "model_name": "HBoxModel",
          "model_module_version": "1.5.0",
          "state": {
            "_dom_classes": [],
            "_model_module": "@jupyter-widgets/controls",
            "_model_module_version": "1.5.0",
            "_model_name": "HBoxModel",
            "_view_count": null,
            "_view_module": "@jupyter-widgets/controls",
            "_view_module_version": "1.5.0",
            "_view_name": "HBoxView",
            "box_style": "",
            "children": [
              "IPY_MODEL_115353973deb47efbbdfa5ec3dcda663",
              "IPY_MODEL_35520fe473b74348a57d7b2d393e6c34",
              "IPY_MODEL_208f91cd6d9142939b571094b327793a"
            ],
            "layout": "IPY_MODEL_b9790f3e9d2f4e6f9b19c1dd1ed89868"
          }
        },
        "115353973deb47efbbdfa5ec3dcda663": {
          "model_module": "@jupyter-widgets/controls",
          "model_name": "HTMLModel",
          "model_module_version": "1.5.0",
          "state": {
            "_dom_classes": [],
            "_model_module": "@jupyter-widgets/controls",
            "_model_module_version": "1.5.0",
            "_model_name": "HTMLModel",
            "_view_count": null,
            "_view_module": "@jupyter-widgets/controls",
            "_view_module_version": "1.5.0",
            "_view_name": "HTMLView",
            "description": "",
            "description_tooltip": null,
            "layout": "IPY_MODEL_4663cdbea45f4a6484bde595166f38eb",
            "placeholder": "​",
            "style": "IPY_MODEL_16218e6785584cf79b1c3a85f9680d95",
            "value": "100%"
          }
        },
        "35520fe473b74348a57d7b2d393e6c34": {
          "model_module": "@jupyter-widgets/controls",
          "model_name": "FloatProgressModel",
          "model_module_version": "1.5.0",
          "state": {
            "_dom_classes": [],
            "_model_module": "@jupyter-widgets/controls",
            "_model_module_version": "1.5.0",
            "_model_name": "FloatProgressModel",
            "_view_count": null,
            "_view_module": "@jupyter-widgets/controls",
            "_view_module_version": "1.5.0",
            "_view_name": "ProgressView",
            "bar_style": "success",
            "description": "",
            "description_tooltip": null,
            "layout": "IPY_MODEL_0bfcca3f77b647aa872d3ceb36deeeb4",
            "max": 46830571,
            "min": 0,
            "orientation": "horizontal",
            "style": "IPY_MODEL_09815d338f934705a15838825d6ad9e0",
            "value": 46830571
          }
        },
        "208f91cd6d9142939b571094b327793a": {
          "model_module": "@jupyter-widgets/controls",
          "model_name": "HTMLModel",
          "model_module_version": "1.5.0",
          "state": {
            "_dom_classes": [],
            "_model_module": "@jupyter-widgets/controls",
            "_model_module_version": "1.5.0",
            "_model_name": "HTMLModel",
            "_view_count": null,
            "_view_module": "@jupyter-widgets/controls",
            "_view_module_version": "1.5.0",
            "_view_name": "HTMLView",
            "description": "",
            "description_tooltip": null,
            "layout": "IPY_MODEL_f11dd6135e284a3499e8b2209995a587",
            "placeholder": "​",
            "style": "IPY_MODEL_4f3c00cfc47243f4be90a842f55f467b",
            "value": " 44.7M/44.7M [00:00&lt;00:00, 52.6MB/s]"
          }
        },
        "b9790f3e9d2f4e6f9b19c1dd1ed89868": {
          "model_module": "@jupyter-widgets/base",
          "model_name": "LayoutModel",
          "model_module_version": "1.2.0",
          "state": {
            "_model_module": "@jupyter-widgets/base",
            "_model_module_version": "1.2.0",
            "_model_name": "LayoutModel",
            "_view_count": null,
            "_view_module": "@jupyter-widgets/base",
            "_view_module_version": "1.2.0",
            "_view_name": "LayoutView",
            "align_content": null,
            "align_items": null,
            "align_self": null,
            "border": null,
            "bottom": null,
            "display": null,
            "flex": null,
            "flex_flow": null,
            "grid_area": null,
            "grid_auto_columns": null,
            "grid_auto_flow": null,
            "grid_auto_rows": null,
            "grid_column": null,
            "grid_gap": null,
            "grid_row": null,
            "grid_template_areas": null,
            "grid_template_columns": null,
            "grid_template_rows": null,
            "height": null,
            "justify_content": null,
            "justify_items": null,
            "left": null,
            "margin": null,
            "max_height": null,
            "max_width": null,
            "min_height": null,
            "min_width": null,
            "object_fit": null,
            "object_position": null,
            "order": null,
            "overflow": null,
            "overflow_x": null,
            "overflow_y": null,
            "padding": null,
            "right": null,
            "top": null,
            "visibility": null,
            "width": null
          }
        },
        "4663cdbea45f4a6484bde595166f38eb": {
          "model_module": "@jupyter-widgets/base",
          "model_name": "LayoutModel",
          "model_module_version": "1.2.0",
          "state": {
            "_model_module": "@jupyter-widgets/base",
            "_model_module_version": "1.2.0",
            "_model_name": "LayoutModel",
            "_view_count": null,
            "_view_module": "@jupyter-widgets/base",
            "_view_module_version": "1.2.0",
            "_view_name": "LayoutView",
            "align_content": null,
            "align_items": null,
            "align_self": null,
            "border": null,
            "bottom": null,
            "display": null,
            "flex": null,
            "flex_flow": null,
            "grid_area": null,
            "grid_auto_columns": null,
            "grid_auto_flow": null,
            "grid_auto_rows": null,
            "grid_column": null,
            "grid_gap": null,
            "grid_row": null,
            "grid_template_areas": null,
            "grid_template_columns": null,
            "grid_template_rows": null,
            "height": null,
            "justify_content": null,
            "justify_items": null,
            "left": null,
            "margin": null,
            "max_height": null,
            "max_width": null,
            "min_height": null,
            "min_width": null,
            "object_fit": null,
            "object_position": null,
            "order": null,
            "overflow": null,
            "overflow_x": null,
            "overflow_y": null,
            "padding": null,
            "right": null,
            "top": null,
            "visibility": null,
            "width": null
          }
        },
        "16218e6785584cf79b1c3a85f9680d95": {
          "model_module": "@jupyter-widgets/controls",
          "model_name": "DescriptionStyleModel",
          "model_module_version": "1.5.0",
          "state": {
            "_model_module": "@jupyter-widgets/controls",
            "_model_module_version": "1.5.0",
            "_model_name": "DescriptionStyleModel",
            "_view_count": null,
            "_view_module": "@jupyter-widgets/base",
            "_view_module_version": "1.2.0",
            "_view_name": "StyleView",
            "description_width": ""
          }
        },
        "0bfcca3f77b647aa872d3ceb36deeeb4": {
          "model_module": "@jupyter-widgets/base",
          "model_name": "LayoutModel",
          "model_module_version": "1.2.0",
          "state": {
            "_model_module": "@jupyter-widgets/base",
            "_model_module_version": "1.2.0",
            "_model_name": "LayoutModel",
            "_view_count": null,
            "_view_module": "@jupyter-widgets/base",
            "_view_module_version": "1.2.0",
            "_view_name": "LayoutView",
            "align_content": null,
            "align_items": null,
            "align_self": null,
            "border": null,
            "bottom": null,
            "display": null,
            "flex": null,
            "flex_flow": null,
            "grid_area": null,
            "grid_auto_columns": null,
            "grid_auto_flow": null,
            "grid_auto_rows": null,
            "grid_column": null,
            "grid_gap": null,
            "grid_row": null,
            "grid_template_areas": null,
            "grid_template_columns": null,
            "grid_template_rows": null,
            "height": null,
            "justify_content": null,
            "justify_items": null,
            "left": null,
            "margin": null,
            "max_height": null,
            "max_width": null,
            "min_height": null,
            "min_width": null,
            "object_fit": null,
            "object_position": null,
            "order": null,
            "overflow": null,
            "overflow_x": null,
            "overflow_y": null,
            "padding": null,
            "right": null,
            "top": null,
            "visibility": null,
            "width": null
          }
        },
        "09815d338f934705a15838825d6ad9e0": {
          "model_module": "@jupyter-widgets/controls",
          "model_name": "ProgressStyleModel",
          "model_module_version": "1.5.0",
          "state": {
            "_model_module": "@jupyter-widgets/controls",
            "_model_module_version": "1.5.0",
            "_model_name": "ProgressStyleModel",
            "_view_count": null,
            "_view_module": "@jupyter-widgets/base",
            "_view_module_version": "1.2.0",
            "_view_name": "StyleView",
            "bar_color": null,
            "description_width": ""
          }
        },
        "f11dd6135e284a3499e8b2209995a587": {
          "model_module": "@jupyter-widgets/base",
          "model_name": "LayoutModel",
          "model_module_version": "1.2.0",
          "state": {
            "_model_module": "@jupyter-widgets/base",
            "_model_module_version": "1.2.0",
            "_model_name": "LayoutModel",
            "_view_count": null,
            "_view_module": "@jupyter-widgets/base",
            "_view_module_version": "1.2.0",
            "_view_name": "LayoutView",
            "align_content": null,
            "align_items": null,
            "align_self": null,
            "border": null,
            "bottom": null,
            "display": null,
            "flex": null,
            "flex_flow": null,
            "grid_area": null,
            "grid_auto_columns": null,
            "grid_auto_flow": null,
            "grid_auto_rows": null,
            "grid_column": null,
            "grid_gap": null,
            "grid_row": null,
            "grid_template_areas": null,
            "grid_template_columns": null,
            "grid_template_rows": null,
            "height": null,
            "justify_content": null,
            "justify_items": null,
            "left": null,
            "margin": null,
            "max_height": null,
            "max_width": null,
            "min_height": null,
            "min_width": null,
            "object_fit": null,
            "object_position": null,
            "order": null,
            "overflow": null,
            "overflow_x": null,
            "overflow_y": null,
            "padding": null,
            "right": null,
            "top": null,
            "visibility": null,
            "width": null
          }
        },
        "4f3c00cfc47243f4be90a842f55f467b": {
          "model_module": "@jupyter-widgets/controls",
          "model_name": "DescriptionStyleModel",
          "model_module_version": "1.5.0",
          "state": {
            "_model_module": "@jupyter-widgets/controls",
            "_model_module_version": "1.5.0",
            "_model_name": "DescriptionStyleModel",
            "_view_count": null,
            "_view_module": "@jupyter-widgets/base",
            "_view_module_version": "1.2.0",
            "_view_name": "StyleView",
            "description_width": ""
          }
        },
        "3e3363273c014ab9a76d670a866ba933": {
          "model_module": "@jupyter-widgets/controls",
          "model_name": "HBoxModel",
          "model_module_version": "1.5.0",
          "state": {
            "_dom_classes": [],
            "_model_module": "@jupyter-widgets/controls",
            "_model_module_version": "1.5.0",
            "_model_name": "HBoxModel",
            "_view_count": null,
            "_view_module": "@jupyter-widgets/controls",
            "_view_module_version": "1.5.0",
            "_view_name": "HBoxView",
            "box_style": "",
            "children": [
              "IPY_MODEL_16ff583ef3e64154a883f9883656cf55",
              "IPY_MODEL_05252c32abba48c39c2bedd61c5ce113",
              "IPY_MODEL_463c5007ba864220aefd1e532efc7b61"
            ],
            "layout": "IPY_MODEL_1c97afcaccbb4574b8da2018e4a1d0b7"
          }
        },
        "16ff583ef3e64154a883f9883656cf55": {
          "model_module": "@jupyter-widgets/controls",
          "model_name": "HTMLModel",
          "model_module_version": "1.5.0",
          "state": {
            "_dom_classes": [],
            "_model_module": "@jupyter-widgets/controls",
            "_model_module_version": "1.5.0",
            "_model_name": "HTMLModel",
            "_view_count": null,
            "_view_module": "@jupyter-widgets/controls",
            "_view_module_version": "1.5.0",
            "_view_name": "HTMLView",
            "description": "",
            "description_tooltip": null,
            "layout": "IPY_MODEL_bb14f946aded43dfa0b09de573e421ed",
            "placeholder": "​",
            "style": "IPY_MODEL_2942b4698fc84083bdfcd2e91ac1ed32",
            "value": "100%"
          }
        },
        "05252c32abba48c39c2bedd61c5ce113": {
          "model_module": "@jupyter-widgets/controls",
          "model_name": "FloatProgressModel",
          "model_module_version": "1.5.0",
          "state": {
            "_dom_classes": [],
            "_model_module": "@jupyter-widgets/controls",
            "_model_module_version": "1.5.0",
            "_model_name": "FloatProgressModel",
            "_view_count": null,
            "_view_module": "@jupyter-widgets/controls",
            "_view_module_version": "1.5.0",
            "_view_name": "ProgressView",
            "bar_style": "success",
            "description": "",
            "description_tooltip": null,
            "layout": "IPY_MODEL_3c9eb05486254f7589fab79d304b6d81",
            "max": 1249,
            "min": 0,
            "orientation": "horizontal",
            "style": "IPY_MODEL_03c8ee36dbca47df95bbc194702521a4",
            "value": 1249
          }
        },
        "463c5007ba864220aefd1e532efc7b61": {
          "model_module": "@jupyter-widgets/controls",
          "model_name": "HTMLModel",
          "model_module_version": "1.5.0",
          "state": {
            "_dom_classes": [],
            "_model_module": "@jupyter-widgets/controls",
            "_model_module_version": "1.5.0",
            "_model_name": "HTMLModel",
            "_view_count": null,
            "_view_module": "@jupyter-widgets/controls",
            "_view_module_version": "1.5.0",
            "_view_name": "HTMLView",
            "description": "",
            "description_tooltip": null,
            "layout": "IPY_MODEL_aabffb5c0724463aad05fccbed679d95",
            "placeholder": "​",
            "style": "IPY_MODEL_65b02ed19ec94445971addf9fb669395",
            "value": " 1249/1249 [04:07&lt;00:00,  5.50it/s]"
          }
        },
        "1c97afcaccbb4574b8da2018e4a1d0b7": {
          "model_module": "@jupyter-widgets/base",
          "model_name": "LayoutModel",
          "model_module_version": "1.2.0",
          "state": {
            "_model_module": "@jupyter-widgets/base",
            "_model_module_version": "1.2.0",
            "_model_name": "LayoutModel",
            "_view_count": null,
            "_view_module": "@jupyter-widgets/base",
            "_view_module_version": "1.2.0",
            "_view_name": "LayoutView",
            "align_content": null,
            "align_items": null,
            "align_self": null,
            "border": null,
            "bottom": null,
            "display": null,
            "flex": null,
            "flex_flow": null,
            "grid_area": null,
            "grid_auto_columns": null,
            "grid_auto_flow": null,
            "grid_auto_rows": null,
            "grid_column": null,
            "grid_gap": null,
            "grid_row": null,
            "grid_template_areas": null,
            "grid_template_columns": null,
            "grid_template_rows": null,
            "height": null,
            "justify_content": null,
            "justify_items": null,
            "left": null,
            "margin": null,
            "max_height": null,
            "max_width": null,
            "min_height": null,
            "min_width": null,
            "object_fit": null,
            "object_position": null,
            "order": null,
            "overflow": null,
            "overflow_x": null,
            "overflow_y": null,
            "padding": null,
            "right": null,
            "top": null,
            "visibility": null,
            "width": null
          }
        },
        "bb14f946aded43dfa0b09de573e421ed": {
          "model_module": "@jupyter-widgets/base",
          "model_name": "LayoutModel",
          "model_module_version": "1.2.0",
          "state": {
            "_model_module": "@jupyter-widgets/base",
            "_model_module_version": "1.2.0",
            "_model_name": "LayoutModel",
            "_view_count": null,
            "_view_module": "@jupyter-widgets/base",
            "_view_module_version": "1.2.0",
            "_view_name": "LayoutView",
            "align_content": null,
            "align_items": null,
            "align_self": null,
            "border": null,
            "bottom": null,
            "display": null,
            "flex": null,
            "flex_flow": null,
            "grid_area": null,
            "grid_auto_columns": null,
            "grid_auto_flow": null,
            "grid_auto_rows": null,
            "grid_column": null,
            "grid_gap": null,
            "grid_row": null,
            "grid_template_areas": null,
            "grid_template_columns": null,
            "grid_template_rows": null,
            "height": null,
            "justify_content": null,
            "justify_items": null,
            "left": null,
            "margin": null,
            "max_height": null,
            "max_width": null,
            "min_height": null,
            "min_width": null,
            "object_fit": null,
            "object_position": null,
            "order": null,
            "overflow": null,
            "overflow_x": null,
            "overflow_y": null,
            "padding": null,
            "right": null,
            "top": null,
            "visibility": null,
            "width": null
          }
        },
        "2942b4698fc84083bdfcd2e91ac1ed32": {
          "model_module": "@jupyter-widgets/controls",
          "model_name": "DescriptionStyleModel",
          "model_module_version": "1.5.0",
          "state": {
            "_model_module": "@jupyter-widgets/controls",
            "_model_module_version": "1.5.0",
            "_model_name": "DescriptionStyleModel",
            "_view_count": null,
            "_view_module": "@jupyter-widgets/base",
            "_view_module_version": "1.2.0",
            "_view_name": "StyleView",
            "description_width": ""
          }
        },
        "3c9eb05486254f7589fab79d304b6d81": {
          "model_module": "@jupyter-widgets/base",
          "model_name": "LayoutModel",
          "model_module_version": "1.2.0",
          "state": {
            "_model_module": "@jupyter-widgets/base",
            "_model_module_version": "1.2.0",
            "_model_name": "LayoutModel",
            "_view_count": null,
            "_view_module": "@jupyter-widgets/base",
            "_view_module_version": "1.2.0",
            "_view_name": "LayoutView",
            "align_content": null,
            "align_items": null,
            "align_self": null,
            "border": null,
            "bottom": null,
            "display": null,
            "flex": null,
            "flex_flow": null,
            "grid_area": null,
            "grid_auto_columns": null,
            "grid_auto_flow": null,
            "grid_auto_rows": null,
            "grid_column": null,
            "grid_gap": null,
            "grid_row": null,
            "grid_template_areas": null,
            "grid_template_columns": null,
            "grid_template_rows": null,
            "height": null,
            "justify_content": null,
            "justify_items": null,
            "left": null,
            "margin": null,
            "max_height": null,
            "max_width": null,
            "min_height": null,
            "min_width": null,
            "object_fit": null,
            "object_position": null,
            "order": null,
            "overflow": null,
            "overflow_x": null,
            "overflow_y": null,
            "padding": null,
            "right": null,
            "top": null,
            "visibility": null,
            "width": null
          }
        },
        "03c8ee36dbca47df95bbc194702521a4": {
          "model_module": "@jupyter-widgets/controls",
          "model_name": "ProgressStyleModel",
          "model_module_version": "1.5.0",
          "state": {
            "_model_module": "@jupyter-widgets/controls",
            "_model_module_version": "1.5.0",
            "_model_name": "ProgressStyleModel",
            "_view_count": null,
            "_view_module": "@jupyter-widgets/base",
            "_view_module_version": "1.2.0",
            "_view_name": "StyleView",
            "bar_color": null,
            "description_width": ""
          }
        },
        "aabffb5c0724463aad05fccbed679d95": {
          "model_module": "@jupyter-widgets/base",
          "model_name": "LayoutModel",
          "model_module_version": "1.2.0",
          "state": {
            "_model_module": "@jupyter-widgets/base",
            "_model_module_version": "1.2.0",
            "_model_name": "LayoutModel",
            "_view_count": null,
            "_view_module": "@jupyter-widgets/base",
            "_view_module_version": "1.2.0",
            "_view_name": "LayoutView",
            "align_content": null,
            "align_items": null,
            "align_self": null,
            "border": null,
            "bottom": null,
            "display": null,
            "flex": null,
            "flex_flow": null,
            "grid_area": null,
            "grid_auto_columns": null,
            "grid_auto_flow": null,
            "grid_auto_rows": null,
            "grid_column": null,
            "grid_gap": null,
            "grid_row": null,
            "grid_template_areas": null,
            "grid_template_columns": null,
            "grid_template_rows": null,
            "height": null,
            "justify_content": null,
            "justify_items": null,
            "left": null,
            "margin": null,
            "max_height": null,
            "max_width": null,
            "min_height": null,
            "min_width": null,
            "object_fit": null,
            "object_position": null,
            "order": null,
            "overflow": null,
            "overflow_x": null,
            "overflow_y": null,
            "padding": null,
            "right": null,
            "top": null,
            "visibility": null,
            "width": null
          }
        },
        "65b02ed19ec94445971addf9fb669395": {
          "model_module": "@jupyter-widgets/controls",
          "model_name": "DescriptionStyleModel",
          "model_module_version": "1.5.0",
          "state": {
            "_model_module": "@jupyter-widgets/controls",
            "_model_module_version": "1.5.0",
            "_model_name": "DescriptionStyleModel",
            "_view_count": null,
            "_view_module": "@jupyter-widgets/base",
            "_view_module_version": "1.2.0",
            "_view_name": "StyleView",
            "description_width": ""
          }
        },
        "b3a4899623854f6c98d1dbb0e96e2872": {
          "model_module": "@jupyter-widgets/controls",
          "model_name": "HBoxModel",
          "model_module_version": "1.5.0",
          "state": {
            "_dom_classes": [],
            "_model_module": "@jupyter-widgets/controls",
            "_model_module_version": "1.5.0",
            "_model_name": "HBoxModel",
            "_view_count": null,
            "_view_module": "@jupyter-widgets/controls",
            "_view_module_version": "1.5.0",
            "_view_name": "HBoxView",
            "box_style": "",
            "children": [
              "IPY_MODEL_3cf84ef4608d477ab916df92ae62d641",
              "IPY_MODEL_ed4947ee32fa476fbfb7f87eccafbe4e",
              "IPY_MODEL_7e088cb99b834172848c5b82be07de11"
            ],
            "layout": "IPY_MODEL_cb5f9a82b2484b7da86684c3a8f42ee9"
          }
        },
        "3cf84ef4608d477ab916df92ae62d641": {
          "model_module": "@jupyter-widgets/controls",
          "model_name": "HTMLModel",
          "model_module_version": "1.5.0",
          "state": {
            "_dom_classes": [],
            "_model_module": "@jupyter-widgets/controls",
            "_model_module_version": "1.5.0",
            "_model_name": "HTMLModel",
            "_view_count": null,
            "_view_module": "@jupyter-widgets/controls",
            "_view_module_version": "1.5.0",
            "_view_name": "HTMLView",
            "description": "",
            "description_tooltip": null,
            "layout": "IPY_MODEL_577bcf383e5b4acfa8d2566b2758fad6",
            "placeholder": "​",
            "style": "IPY_MODEL_58e6ae39b4ba4600b45639e93b648632",
            "value": "100%"
          }
        },
        "ed4947ee32fa476fbfb7f87eccafbe4e": {
          "model_module": "@jupyter-widgets/controls",
          "model_name": "FloatProgressModel",
          "model_module_version": "1.5.0",
          "state": {
            "_dom_classes": [],
            "_model_module": "@jupyter-widgets/controls",
            "_model_module_version": "1.5.0",
            "_model_name": "FloatProgressModel",
            "_view_count": null,
            "_view_module": "@jupyter-widgets/controls",
            "_view_module_version": "1.5.0",
            "_view_name": "ProgressView",
            "bar_style": "success",
            "description": "",
            "description_tooltip": null,
            "layout": "IPY_MODEL_4dd34932b2504bdab23d8151ae2cdf24",
            "max": 313,
            "min": 0,
            "orientation": "horizontal",
            "style": "IPY_MODEL_5288209efbae48388d019ef43becbe51",
            "value": 313
          }
        },
        "7e088cb99b834172848c5b82be07de11": {
          "model_module": "@jupyter-widgets/controls",
          "model_name": "HTMLModel",
          "model_module_version": "1.5.0",
          "state": {
            "_dom_classes": [],
            "_model_module": "@jupyter-widgets/controls",
            "_model_module_version": "1.5.0",
            "_model_name": "HTMLModel",
            "_view_count": null,
            "_view_module": "@jupyter-widgets/controls",
            "_view_module_version": "1.5.0",
            "_view_name": "HTMLView",
            "description": "",
            "description_tooltip": null,
            "layout": "IPY_MODEL_6da2ccb8188640d1a081f47560e0713b",
            "placeholder": "​",
            "style": "IPY_MODEL_d4e2d42b22f34573a37ed921034c9687",
            "value": " 313/313 [01:00&lt;00:00,  5.21it/s]"
          }
        },
        "cb5f9a82b2484b7da86684c3a8f42ee9": {
          "model_module": "@jupyter-widgets/base",
          "model_name": "LayoutModel",
          "model_module_version": "1.2.0",
          "state": {
            "_model_module": "@jupyter-widgets/base",
            "_model_module_version": "1.2.0",
            "_model_name": "LayoutModel",
            "_view_count": null,
            "_view_module": "@jupyter-widgets/base",
            "_view_module_version": "1.2.0",
            "_view_name": "LayoutView",
            "align_content": null,
            "align_items": null,
            "align_self": null,
            "border": null,
            "bottom": null,
            "display": null,
            "flex": null,
            "flex_flow": null,
            "grid_area": null,
            "grid_auto_columns": null,
            "grid_auto_flow": null,
            "grid_auto_rows": null,
            "grid_column": null,
            "grid_gap": null,
            "grid_row": null,
            "grid_template_areas": null,
            "grid_template_columns": null,
            "grid_template_rows": null,
            "height": null,
            "justify_content": null,
            "justify_items": null,
            "left": null,
            "margin": null,
            "max_height": null,
            "max_width": null,
            "min_height": null,
            "min_width": null,
            "object_fit": null,
            "object_position": null,
            "order": null,
            "overflow": null,
            "overflow_x": null,
            "overflow_y": null,
            "padding": null,
            "right": null,
            "top": null,
            "visibility": null,
            "width": null
          }
        },
        "577bcf383e5b4acfa8d2566b2758fad6": {
          "model_module": "@jupyter-widgets/base",
          "model_name": "LayoutModel",
          "model_module_version": "1.2.0",
          "state": {
            "_model_module": "@jupyter-widgets/base",
            "_model_module_version": "1.2.0",
            "_model_name": "LayoutModel",
            "_view_count": null,
            "_view_module": "@jupyter-widgets/base",
            "_view_module_version": "1.2.0",
            "_view_name": "LayoutView",
            "align_content": null,
            "align_items": null,
            "align_self": null,
            "border": null,
            "bottom": null,
            "display": null,
            "flex": null,
            "flex_flow": null,
            "grid_area": null,
            "grid_auto_columns": null,
            "grid_auto_flow": null,
            "grid_auto_rows": null,
            "grid_column": null,
            "grid_gap": null,
            "grid_row": null,
            "grid_template_areas": null,
            "grid_template_columns": null,
            "grid_template_rows": null,
            "height": null,
            "justify_content": null,
            "justify_items": null,
            "left": null,
            "margin": null,
            "max_height": null,
            "max_width": null,
            "min_height": null,
            "min_width": null,
            "object_fit": null,
            "object_position": null,
            "order": null,
            "overflow": null,
            "overflow_x": null,
            "overflow_y": null,
            "padding": null,
            "right": null,
            "top": null,
            "visibility": null,
            "width": null
          }
        },
        "58e6ae39b4ba4600b45639e93b648632": {
          "model_module": "@jupyter-widgets/controls",
          "model_name": "DescriptionStyleModel",
          "model_module_version": "1.5.0",
          "state": {
            "_model_module": "@jupyter-widgets/controls",
            "_model_module_version": "1.5.0",
            "_model_name": "DescriptionStyleModel",
            "_view_count": null,
            "_view_module": "@jupyter-widgets/base",
            "_view_module_version": "1.2.0",
            "_view_name": "StyleView",
            "description_width": ""
          }
        },
        "4dd34932b2504bdab23d8151ae2cdf24": {
          "model_module": "@jupyter-widgets/base",
          "model_name": "LayoutModel",
          "model_module_version": "1.2.0",
          "state": {
            "_model_module": "@jupyter-widgets/base",
            "_model_module_version": "1.2.0",
            "_model_name": "LayoutModel",
            "_view_count": null,
            "_view_module": "@jupyter-widgets/base",
            "_view_module_version": "1.2.0",
            "_view_name": "LayoutView",
            "align_content": null,
            "align_items": null,
            "align_self": null,
            "border": null,
            "bottom": null,
            "display": null,
            "flex": null,
            "flex_flow": null,
            "grid_area": null,
            "grid_auto_columns": null,
            "grid_auto_flow": null,
            "grid_auto_rows": null,
            "grid_column": null,
            "grid_gap": null,
            "grid_row": null,
            "grid_template_areas": null,
            "grid_template_columns": null,
            "grid_template_rows": null,
            "height": null,
            "justify_content": null,
            "justify_items": null,
            "left": null,
            "margin": null,
            "max_height": null,
            "max_width": null,
            "min_height": null,
            "min_width": null,
            "object_fit": null,
            "object_position": null,
            "order": null,
            "overflow": null,
            "overflow_x": null,
            "overflow_y": null,
            "padding": null,
            "right": null,
            "top": null,
            "visibility": null,
            "width": null
          }
        },
        "5288209efbae48388d019ef43becbe51": {
          "model_module": "@jupyter-widgets/controls",
          "model_name": "ProgressStyleModel",
          "model_module_version": "1.5.0",
          "state": {
            "_model_module": "@jupyter-widgets/controls",
            "_model_module_version": "1.5.0",
            "_model_name": "ProgressStyleModel",
            "_view_count": null,
            "_view_module": "@jupyter-widgets/base",
            "_view_module_version": "1.2.0",
            "_view_name": "StyleView",
            "bar_color": null,
            "description_width": ""
          }
        },
        "6da2ccb8188640d1a081f47560e0713b": {
          "model_module": "@jupyter-widgets/base",
          "model_name": "LayoutModel",
          "model_module_version": "1.2.0",
          "state": {
            "_model_module": "@jupyter-widgets/base",
            "_model_module_version": "1.2.0",
            "_model_name": "LayoutModel",
            "_view_count": null,
            "_view_module": "@jupyter-widgets/base",
            "_view_module_version": "1.2.0",
            "_view_name": "LayoutView",
            "align_content": null,
            "align_items": null,
            "align_self": null,
            "border": null,
            "bottom": null,
            "display": null,
            "flex": null,
            "flex_flow": null,
            "grid_area": null,
            "grid_auto_columns": null,
            "grid_auto_flow": null,
            "grid_auto_rows": null,
            "grid_column": null,
            "grid_gap": null,
            "grid_row": null,
            "grid_template_areas": null,
            "grid_template_columns": null,
            "grid_template_rows": null,
            "height": null,
            "justify_content": null,
            "justify_items": null,
            "left": null,
            "margin": null,
            "max_height": null,
            "max_width": null,
            "min_height": null,
            "min_width": null,
            "object_fit": null,
            "object_position": null,
            "order": null,
            "overflow": null,
            "overflow_x": null,
            "overflow_y": null,
            "padding": null,
            "right": null,
            "top": null,
            "visibility": null,
            "width": null
          }
        },
        "d4e2d42b22f34573a37ed921034c9687": {
          "model_module": "@jupyter-widgets/controls",
          "model_name": "DescriptionStyleModel",
          "model_module_version": "1.5.0",
          "state": {
            "_model_module": "@jupyter-widgets/controls",
            "_model_module_version": "1.5.0",
            "_model_name": "DescriptionStyleModel",
            "_view_count": null,
            "_view_module": "@jupyter-widgets/base",
            "_view_module_version": "1.2.0",
            "_view_name": "StyleView",
            "description_width": ""
          }
        },
        "d90ee14e79224e19a3cf08f30c2a0976": {
          "model_module": "@jupyter-widgets/controls",
          "model_name": "HBoxModel",
          "model_module_version": "1.5.0",
          "state": {
            "_dom_classes": [],
            "_model_module": "@jupyter-widgets/controls",
            "_model_module_version": "1.5.0",
            "_model_name": "HBoxModel",
            "_view_count": null,
            "_view_module": "@jupyter-widgets/controls",
            "_view_module_version": "1.5.0",
            "_view_name": "HBoxView",
            "box_style": "",
            "children": [
              "IPY_MODEL_accbffc8572a4ba99b75d2d2586e4b97",
              "IPY_MODEL_8ca3c84a2eca4987bfb04e825d488b06",
              "IPY_MODEL_a1fda16d7dc74928aa75de4414e9dca1"
            ],
            "layout": "IPY_MODEL_b71a25c0e1dc49e8a17581fe4fcce261"
          }
        },
        "accbffc8572a4ba99b75d2d2586e4b97": {
          "model_module": "@jupyter-widgets/controls",
          "model_name": "HTMLModel",
          "model_module_version": "1.5.0",
          "state": {
            "_dom_classes": [],
            "_model_module": "@jupyter-widgets/controls",
            "_model_module_version": "1.5.0",
            "_model_name": "HTMLModel",
            "_view_count": null,
            "_view_module": "@jupyter-widgets/controls",
            "_view_module_version": "1.5.0",
            "_view_name": "HTMLView",
            "description": "",
            "description_tooltip": null,
            "layout": "IPY_MODEL_da9a25616da144abb84cdbe23074becb",
            "placeholder": "​",
            "style": "IPY_MODEL_b11bf0c3a68c4e09a5b94ac492f52ba1",
            "value": "100%"
          }
        },
        "8ca3c84a2eca4987bfb04e825d488b06": {
          "model_module": "@jupyter-widgets/controls",
          "model_name": "FloatProgressModel",
          "model_module_version": "1.5.0",
          "state": {
            "_dom_classes": [],
            "_model_module": "@jupyter-widgets/controls",
            "_model_module_version": "1.5.0",
            "_model_name": "FloatProgressModel",
            "_view_count": null,
            "_view_module": "@jupyter-widgets/controls",
            "_view_module_version": "1.5.0",
            "_view_name": "ProgressView",
            "bar_style": "success",
            "description": "",
            "description_tooltip": null,
            "layout": "IPY_MODEL_a52bec3b344a4716adf839fe9470582e",
            "max": 30,
            "min": 0,
            "orientation": "horizontal",
            "style": "IPY_MODEL_eb78771ea79f44989318ef2402638b69",
            "value": 30
          }
        },
        "a1fda16d7dc74928aa75de4414e9dca1": {
          "model_module": "@jupyter-widgets/controls",
          "model_name": "HTMLModel",
          "model_module_version": "1.5.0",
          "state": {
            "_dom_classes": [],
            "_model_module": "@jupyter-widgets/controls",
            "_model_module_version": "1.5.0",
            "_model_name": "HTMLModel",
            "_view_count": null,
            "_view_module": "@jupyter-widgets/controls",
            "_view_module_version": "1.5.0",
            "_view_name": "HTMLView",
            "description": "",
            "description_tooltip": null,
            "layout": "IPY_MODEL_da4fdfe786a64482837916250e317e60",
            "placeholder": "​",
            "style": "IPY_MODEL_959a4a28f6384970a927265e7af1b419",
            "value": " 30/30 [05:53&lt;00:00, 11.89s/it]"
          }
        },
        "b71a25c0e1dc49e8a17581fe4fcce261": {
          "model_module": "@jupyter-widgets/base",
          "model_name": "LayoutModel",
          "model_module_version": "1.2.0",
          "state": {
            "_model_module": "@jupyter-widgets/base",
            "_model_module_version": "1.2.0",
            "_model_name": "LayoutModel",
            "_view_count": null,
            "_view_module": "@jupyter-widgets/base",
            "_view_module_version": "1.2.0",
            "_view_name": "LayoutView",
            "align_content": null,
            "align_items": null,
            "align_self": null,
            "border": null,
            "bottom": null,
            "display": null,
            "flex": null,
            "flex_flow": null,
            "grid_area": null,
            "grid_auto_columns": null,
            "grid_auto_flow": null,
            "grid_auto_rows": null,
            "grid_column": null,
            "grid_gap": null,
            "grid_row": null,
            "grid_template_areas": null,
            "grid_template_columns": null,
            "grid_template_rows": null,
            "height": null,
            "justify_content": null,
            "justify_items": null,
            "left": null,
            "margin": null,
            "max_height": null,
            "max_width": null,
            "min_height": null,
            "min_width": null,
            "object_fit": null,
            "object_position": null,
            "order": null,
            "overflow": null,
            "overflow_x": null,
            "overflow_y": null,
            "padding": null,
            "right": null,
            "top": null,
            "visibility": null,
            "width": null
          }
        },
        "da9a25616da144abb84cdbe23074becb": {
          "model_module": "@jupyter-widgets/base",
          "model_name": "LayoutModel",
          "model_module_version": "1.2.0",
          "state": {
            "_model_module": "@jupyter-widgets/base",
            "_model_module_version": "1.2.0",
            "_model_name": "LayoutModel",
            "_view_count": null,
            "_view_module": "@jupyter-widgets/base",
            "_view_module_version": "1.2.0",
            "_view_name": "LayoutView",
            "align_content": null,
            "align_items": null,
            "align_self": null,
            "border": null,
            "bottom": null,
            "display": null,
            "flex": null,
            "flex_flow": null,
            "grid_area": null,
            "grid_auto_columns": null,
            "grid_auto_flow": null,
            "grid_auto_rows": null,
            "grid_column": null,
            "grid_gap": null,
            "grid_row": null,
            "grid_template_areas": null,
            "grid_template_columns": null,
            "grid_template_rows": null,
            "height": null,
            "justify_content": null,
            "justify_items": null,
            "left": null,
            "margin": null,
            "max_height": null,
            "max_width": null,
            "min_height": null,
            "min_width": null,
            "object_fit": null,
            "object_position": null,
            "order": null,
            "overflow": null,
            "overflow_x": null,
            "overflow_y": null,
            "padding": null,
            "right": null,
            "top": null,
            "visibility": null,
            "width": null
          }
        },
        "b11bf0c3a68c4e09a5b94ac492f52ba1": {
          "model_module": "@jupyter-widgets/controls",
          "model_name": "DescriptionStyleModel",
          "model_module_version": "1.5.0",
          "state": {
            "_model_module": "@jupyter-widgets/controls",
            "_model_module_version": "1.5.0",
            "_model_name": "DescriptionStyleModel",
            "_view_count": null,
            "_view_module": "@jupyter-widgets/base",
            "_view_module_version": "1.2.0",
            "_view_name": "StyleView",
            "description_width": ""
          }
        },
        "a52bec3b344a4716adf839fe9470582e": {
          "model_module": "@jupyter-widgets/base",
          "model_name": "LayoutModel",
          "model_module_version": "1.2.0",
          "state": {
            "_model_module": "@jupyter-widgets/base",
            "_model_module_version": "1.2.0",
            "_model_name": "LayoutModel",
            "_view_count": null,
            "_view_module": "@jupyter-widgets/base",
            "_view_module_version": "1.2.0",
            "_view_name": "LayoutView",
            "align_content": null,
            "align_items": null,
            "align_self": null,
            "border": null,
            "bottom": null,
            "display": null,
            "flex": null,
            "flex_flow": null,
            "grid_area": null,
            "grid_auto_columns": null,
            "grid_auto_flow": null,
            "grid_auto_rows": null,
            "grid_column": null,
            "grid_gap": null,
            "grid_row": null,
            "grid_template_areas": null,
            "grid_template_columns": null,
            "grid_template_rows": null,
            "height": null,
            "justify_content": null,
            "justify_items": null,
            "left": null,
            "margin": null,
            "max_height": null,
            "max_width": null,
            "min_height": null,
            "min_width": null,
            "object_fit": null,
            "object_position": null,
            "order": null,
            "overflow": null,
            "overflow_x": null,
            "overflow_y": null,
            "padding": null,
            "right": null,
            "top": null,
            "visibility": null,
            "width": null
          }
        },
        "eb78771ea79f44989318ef2402638b69": {
          "model_module": "@jupyter-widgets/controls",
          "model_name": "ProgressStyleModel",
          "model_module_version": "1.5.0",
          "state": {
            "_model_module": "@jupyter-widgets/controls",
            "_model_module_version": "1.5.0",
            "_model_name": "ProgressStyleModel",
            "_view_count": null,
            "_view_module": "@jupyter-widgets/base",
            "_view_module_version": "1.2.0",
            "_view_name": "StyleView",
            "bar_color": null,
            "description_width": ""
          }
        },
        "da4fdfe786a64482837916250e317e60": {
          "model_module": "@jupyter-widgets/base",
          "model_name": "LayoutModel",
          "model_module_version": "1.2.0",
          "state": {
            "_model_module": "@jupyter-widgets/base",
            "_model_module_version": "1.2.0",
            "_model_name": "LayoutModel",
            "_view_count": null,
            "_view_module": "@jupyter-widgets/base",
            "_view_module_version": "1.2.0",
            "_view_name": "LayoutView",
            "align_content": null,
            "align_items": null,
            "align_self": null,
            "border": null,
            "bottom": null,
            "display": null,
            "flex": null,
            "flex_flow": null,
            "grid_area": null,
            "grid_auto_columns": null,
            "grid_auto_flow": null,
            "grid_auto_rows": null,
            "grid_column": null,
            "grid_gap": null,
            "grid_row": null,
            "grid_template_areas": null,
            "grid_template_columns": null,
            "grid_template_rows": null,
            "height": null,
            "justify_content": null,
            "justify_items": null,
            "left": null,
            "margin": null,
            "max_height": null,
            "max_width": null,
            "min_height": null,
            "min_width": null,
            "object_fit": null,
            "object_position": null,
            "order": null,
            "overflow": null,
            "overflow_x": null,
            "overflow_y": null,
            "padding": null,
            "right": null,
            "top": null,
            "visibility": null,
            "width": null
          }
        },
        "959a4a28f6384970a927265e7af1b419": {
          "model_module": "@jupyter-widgets/controls",
          "model_name": "DescriptionStyleModel",
          "model_module_version": "1.5.0",
          "state": {
            "_model_module": "@jupyter-widgets/controls",
            "_model_module_version": "1.5.0",
            "_model_name": "DescriptionStyleModel",
            "_view_count": null,
            "_view_module": "@jupyter-widgets/base",
            "_view_module_version": "1.2.0",
            "_view_name": "StyleView",
            "description_width": ""
          }
        }
      }
    }
  },
  "nbformat": 4,
  "nbformat_minor": 0
}